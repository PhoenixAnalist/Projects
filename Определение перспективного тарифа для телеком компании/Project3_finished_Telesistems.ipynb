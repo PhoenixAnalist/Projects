{
 "cells": [
  {
   "cell_type": "markdown",
   "metadata": {},
   "source": [
    "# Определение перспективного тарифа для телеком компании"
   ]
  },
  {
   "cell_type": "markdown",
   "metadata": {},
   "source": [
    "Клиентам предлагают два тарифных плана: «Смарт» и «Ультра». Чтобы скорректировать рекламный бюджет, коммерческий департамент федерального оператора сотовой связи хочет понять, какой тариф приносит больше денег.\n",
    "Необходимо сделать предварительный анализ тарифов на небольшой выборке клиентов. В распоряжении данные 500 пользователей «Мегалайна»: кто они, откуда, каким тарифом пользуются, сколько звонков и сообщений каждый отправил за 2018 год. Нужно проанализировать поведение клиентов и сделать вывод — какой тариф лучше."
   ]
  },
  {
   "cell_type": "markdown",
   "metadata": {},
   "source": [
    "# Предобработка данных"
   ]
  },
  {
   "cell_type": "markdown",
   "metadata": {},
   "source": [
    "## Общая информация"
   ]
  },
  {
   "cell_type": "code",
   "execution_count": 1,
   "metadata": {},
   "outputs": [
    {
     "name": "stdout",
     "output_type": "stream",
     "text": [
      "<class 'pandas.core.frame.DataFrame'>\n",
      "Int64Index: 202607 entries, 0 to 202606\n",
      "Data columns (total 4 columns):\n",
      " #   Column     Non-Null Count   Dtype  \n",
      "---  ------     --------------   -----  \n",
      " 0   id         202607 non-null  object \n",
      " 1   call_date  202607 non-null  object \n",
      " 2   duration   202607 non-null  float64\n",
      " 3   user_id    202607 non-null  int64  \n",
      "dtypes: float64(1), int64(1), object(2)\n",
      "memory usage: 7.7+ MB\n",
      "None\n",
      "\n",
      "<class 'pandas.core.frame.DataFrame'>\n",
      "Int64Index: 149396 entries, 0 to 149395\n",
      "Data columns (total 4 columns):\n",
      " #   Column        Non-Null Count   Dtype  \n",
      "---  ------        --------------   -----  \n",
      " 0   id            149396 non-null  object \n",
      " 1   mb_used       149396 non-null  float64\n",
      " 2   session_date  149396 non-null  object \n",
      " 3   user_id       149396 non-null  int64  \n",
      "dtypes: float64(1), int64(1), object(2)\n",
      "memory usage: 5.7+ MB\n",
      "None\n",
      "\n",
      "<class 'pandas.core.frame.DataFrame'>\n",
      "Int64Index: 123036 entries, 0 to 123035\n",
      "Data columns (total 3 columns):\n",
      " #   Column        Non-Null Count   Dtype \n",
      "---  ------        --------------   ----- \n",
      " 0   id            123036 non-null  object\n",
      " 1   message_date  123036 non-null  object\n",
      " 2   user_id       123036 non-null  int64 \n",
      "dtypes: int64(1), object(2)\n",
      "memory usage: 3.8+ MB\n",
      "None\n",
      "\n",
      "<class 'pandas.core.frame.DataFrame'>\n",
      "Int64Index: 500 entries, 0 to 499\n",
      "Data columns (total 8 columns):\n",
      " #   Column      Non-Null Count  Dtype \n",
      "---  ------      --------------  ----- \n",
      " 0   user_id     500 non-null    int64 \n",
      " 1   age         500 non-null    int64 \n",
      " 2   churn_date  38 non-null     object\n",
      " 3   city        500 non-null    object\n",
      " 4   first_name  500 non-null    object\n",
      " 5   last_name   500 non-null    object\n",
      " 6   reg_date    500 non-null    object\n",
      " 7   tariff      500 non-null    object\n",
      "dtypes: int64(2), object(6)\n",
      "memory usage: 35.2+ KB\n",
      "None\n",
      "\n",
      "<class 'pandas.core.frame.DataFrame'>\n",
      "Int64Index: 2 entries, 0 to 1\n",
      "Data columns (total 8 columns):\n",
      " #   Column                 Non-Null Count  Dtype \n",
      "---  ------                 --------------  ----- \n",
      " 0   messages_included      2 non-null      int64 \n",
      " 1   mg_per_month_included  2 non-null      int64 \n",
      " 2   minutes_included       2 non-null      int64 \n",
      " 3   rub_monthly_fee        2 non-null      int64 \n",
      " 4   rub_per_gb             2 non-null      int64 \n",
      " 5   rub_per_message        2 non-null      int64 \n",
      " 6   rub_per_minute         2 non-null      int64 \n",
      " 7   tariff_name            2 non-null      object\n",
      "dtypes: int64(7), object(1)\n",
      "memory usage: 144.0+ bytes\n",
      "None\n",
      "\n"
     ]
    }
   ],
   "source": [
    "import pandas as pd\n",
    "import seaborn as sns\n",
    "sns.set(color_codes=True)\n",
    "\n",
    "import matplotlib.pyplot as plt\n",
    "import numpy as np\n",
    "import scipy.stats as st\n",
    "from functools import reduce\n",
    "idx = pd.IndexSlice\n",
    "from scipy import stats as st\n",
    "\n",
    "#calls = pd.read_csv(\"C:/Users/Миша/Documents/PythonYandex/Project3/calls.csv\").loc[:,'id':'user_id']\n",
    "#internet = pd.read_csv(\"C:/Users/Миша/Documents/PythonYandex/Project3/internet.csv\").loc[:,'id':'user_id']\n",
    "#messages = pd.read_csv(\"C:/Users/Миша/Documents/PythonYandex/Project3/messages.csv\").loc[:,'id':'user_id']\n",
    "#tariffs = pd.read_csv(\"C:/Users/Миша/Documents/PythonYandex/Project3/tariffs.csv\").loc[:,'messages':'tariff_name']\n",
    "#users = pd.read_csv(\"C:/Users/Миша/Documents/PythonYandex/Project3/users.csv\").loc[:,'user_id':'tariff']\n",
    "\n",
    "calls = pd.read_csv('C:/Users/Миша/Documents/PythonYandex/Project3/calls.csv', index_col=0)\n",
    "internet = pd.read_csv('C:/Users/Миша/Documents/PythonYandex/Project3/internet.csv', index_col=0)\n",
    "messages = pd.read_csv('C:/Users/Миша/Documents/PythonYandex/Project3/messages.csv', index_col=0)\n",
    "tariffs = pd.read_csv('C:/Users/Миша/Documents/PythonYandex/Project3/tariffs.csv', index_col=0)\n",
    "users = pd.read_csv('C:/Users/Миша/Documents/PythonYandex/Project3/users.csv', index_col=0)\n",
    "\n",
    "for data in [calls, internet, messages, users, tariffs]: print(data.info(), end='\\n\\n')"
   ]
  },
  {
   "cell_type": "markdown",
   "metadata": {},
   "source": [
    "Датасет содержит данные по 500 клиентам, потребуется заменить тип данных у столбцов с датой и временем, а также округлить значения минут разговора и мегабайт использованного трафика в большую сторону, так как тарифы считаются по минутам и мегабайтам.\n",
    "\n",
    "Кроме того, после объединения данных (сводная таблица по звонкам, по сообщениям и интернет-трафику) возникнут пропущенные значения (клиент мог в каком-то месяце не писать сообщений, но звонить и использовать интернет), которые также нужно будет заменить на нули."
   ]
  },
  {
   "cell_type": "markdown",
   "metadata": {},
   "source": [
    "## Замена типа данных"
   ]
  },
  {
   "cell_type": "markdown",
   "metadata": {},
   "source": [
    "Заменим тип данных, обозначающих дату, со строчного на временной:"
   ]
  },
  {
   "cell_type": "code",
   "execution_count": 2,
   "metadata": {},
   "outputs": [],
   "source": [
    "calls['call_date'] = pd.to_datetime(calls['call_date'], format='%Y-%m-%d')\n",
    "internet['session_date'] = pd.to_datetime(internet['session_date'], format='%Y-%m-%d')\n",
    "messages['message_date'] = pd.to_datetime(messages['message_date'], format='%Y-%m-%d')\n",
    "users['churn_date'] = pd.to_datetime(users['churn_date'], format='%Y-%m-%d')\n",
    "users['reg_date'] = pd.to_datetime(users['reg_date'], format='%Y-%m-%d')"
   ]
  },
  {
   "cell_type": "markdown",
   "metadata": {},
   "source": [
    "## Исправление ошибок в данных"
   ]
  },
  {
   "cell_type": "markdown",
   "metadata": {},
   "source": [
    "### Звонки"
   ]
  },
  {
   "cell_type": "code",
   "execution_count": 3,
   "metadata": {},
   "outputs": [
    {
     "name": "stdout",
     "output_type": "stream",
     "text": [
      "Количество звонков с длительностью, равной нулю: 39613\n"
     ]
    }
   ],
   "source": [
    "print('Количество звонков с длительностью, равной нулю:', calls.loc[calls['duration'] == 0, 'duration'].value_counts()[0])"
   ]
  },
  {
   "cell_type": "code",
   "execution_count": 4,
   "metadata": {
    "scrolled": true
   },
   "outputs": [
    {
     "data": {
      "image/png": "[encoded data removed]",
      "text/plain": [
       "<Figure size 360x360 with 1 Axes>"
      ]
     },
     "metadata": {},
     "output_type": "display_data"
    }
   ],
   "source": [
    "# добавим столбец со значением месяца\n",
    "calls['month'] = calls['call_date'].dt.month\n",
    "\n",
    "# построим график зависимости количества нулевых значений от общего числа звонков за каждый месяц\n",
    "calls.loc[calls['duration'] == 0, 'nulls_count'] = 1\n",
    "null_calls = calls.pivot_table(index='month', values=['id', 'nulls_count'], aggfunc='count')\n",
    "null_calls['null_ratio'] = round(null_calls['nulls_count'] / null_calls['id'], 3)\n",
    "\n",
    "sns.relplot(x='id', y='nulls_count', data=null_calls)\n",
    "plt.xlabel('Общее число звонков по месяцам')\n",
    "plt.ylabel('Число звонков с нулевой продолжительностью')\n",
    "_ = plt.title('Зависимость количества нулевых значений от общего числа звонков за каждый месяц')"
   ]
  },
  {
   "cell_type": "markdown",
   "metadata": {},
   "source": [
    "Таким образом, доля звонков с нулевой продолжительностью стационарна, и их появление систематично. Приведем все значения к виду int и добавим 1. \n",
    "1.Уберем все нули. \n",
    "2.Перевод в инт уберет все что стоит после запято не зависимо от того что там(Округление не подходит). \n",
    "3.После перевода в инт добавим по одной минуте к каждому числу, так как не важно что было после запятой."
   ]
  },
  {
   "cell_type": "code",
   "execution_count": 6,
   "metadata": {},
   "outputs": [
    {
     "name": "stdout",
     "output_type": "stream",
     "text": [
      "<class 'pandas.core.frame.DataFrame'>\n",
      "Int64Index: 202607 entries, 0 to 202606\n",
      "Data columns (total 6 columns):\n",
      " #   Column       Non-Null Count   Dtype         \n",
      "---  ------       --------------   -----         \n",
      " 0   id           202607 non-null  object        \n",
      " 1   call_date    202607 non-null  datetime64[ns]\n",
      " 2   duration     202607 non-null  int32         \n",
      " 3   user_id      202607 non-null  int64         \n",
      " 4   month        202607 non-null  int64         \n",
      " 5   nulls_count  39613 non-null   float64       \n",
      "dtypes: datetime64[ns](1), float64(1), int32(1), int64(2), object(1)\n",
      "memory usage: 10.0+ MB\n",
      "AxesSubplot(0.125,0.125;0.775x0.755)\n"
     ]
    },
    {
     "data": {
      "image/png": "[encoded data removed]",
      "text/plain": [
       "<Figure size 432x288 with 1 Axes>"
      ]
     },
     "metadata": {},
     "output_type": "display_data"
    }
   ],
   "source": [
    "calls['duration'] = calls['duration'].astype('int') #переводим в инт\n",
    "calls = calls.query('duration > 0') #убираем нули\n",
    "calls['duration'] = calls['duration'] + 1 #добавляем по минуте так как при приращении в инт мы округлили до целых в меньшую сторону\n",
    "#print(calls.head(10))\n",
    "#print(calls[calls['duration'].isnull()])\n",
    "calls.info() #проверяем что все нормально\n",
    "print(calls['duration'].hist(bins = 10))"
   ]
  },
  {
   "cell_type": "markdown",
   "metadata": {},
   "source": [
    "#### Интернет-сессии"
   ]
  },
  {
   "cell_type": "code",
   "execution_count": 7,
   "metadata": {},
   "outputs": [
    {
     "data": {
      "image/png": "[encoded data removed]",
      "text/plain": [
       "<Figure size 360x360 with 1 Axes>"
      ]
     },
     "metadata": {},
     "output_type": "display_data"
    }
   ],
   "source": [
    "# добавим столбец со значением месяца\n",
    "internet['month'] = internet['session_date'].dt.month\n",
    "\n",
    "# построим график зависимости количества нулевых значений от общего числа Интернет-сессий за каждый месяц\n",
    "internet.loc[internet['mb_used'] == 0, 'nulls_count'] = 1\n",
    "null_mb = internet.pivot_table(index='month', values=['id', 'nulls_count'], aggfunc='count')\n",
    "null_mb['null_ratio'] = round(null_mb['nulls_count'] / null_mb['id'], 3)\n",
    "\n",
    "sns.relplot(x='id', y='nulls_count', data=null_mb, color='tab:red')\n",
    "plt.xlabel('Общее число интернет-сессий по месяцам')\n",
    "plt.ylabel('Число интернет-сессий с нулевым трафиком')\n",
    "_ = plt.title('Зависимость количества нулевых значений от общего числа интернет-сессий за каждый месяц')"
   ]
  },
  {
   "cell_type": "markdown",
   "metadata": {},
   "source": [
    "Вывод по нулевым значениям интернет-сесссий аналогичен. Округлим все значения в большую сторону (т.к. тариф считается по мегабайтам), а нулевые значения заменим на 1."
   ]
  },
  {
   "cell_type": "code",
   "execution_count": 8,
   "metadata": {},
   "outputs": [],
   "source": [
    "internet['mb_used'] = internet['mb_used'].apply(np.ceil)\n",
    "internet.loc[internet['mb_used'] == 0, 'mb_used'] = 1"
   ]
  },
  {
   "cell_type": "markdown",
   "metadata": {},
   "source": [
    "## Расчетные значения для каждого пользователя"
   ]
  },
  {
   "cell_type": "markdown",
   "metadata": {},
   "source": [
    "Найдем для каждого пользователя:\n",
    "- количество сделанных звонков и израсходованных минут разговора по месяцам;\n",
    "- количество отправленных сообщений по месяцам;\n",
    "- объем израсходованного интернет-трафика по месяцам."
   ]
  },
  {
   "cell_type": "code",
   "execution_count": 9,
   "metadata": {},
   "outputs": [
    {
     "data": {
      "text/html": [
       "<div>\n",
       "<style scoped>\n",
       "    .dataframe tbody tr th:only-of-type {\n",
       "        vertical-align: middle;\n",
       "    }\n",
       "\n",
       "    .dataframe tbody tr th {\n",
       "        vertical-align: top;\n",
       "    }\n",
       "\n",
       "    .dataframe thead th {\n",
       "        text-align: right;\n",
       "    }\n",
       "</style>\n",
       "<table border=\"1\" class=\"dataframe\">\n",
       "  <thead>\n",
       "    <tr style=\"text-align: right;\">\n",
       "      <th></th>\n",
       "      <th></th>\n",
       "      <th>duration</th>\n",
       "      <th>calls</th>\n",
       "      <th>messages</th>\n",
       "      <th>mb_used</th>\n",
       "    </tr>\n",
       "    <tr>\n",
       "      <th>user_id</th>\n",
       "      <th>month</th>\n",
       "      <th></th>\n",
       "      <th></th>\n",
       "      <th></th>\n",
       "      <th></th>\n",
       "    </tr>\n",
       "  </thead>\n",
       "  <tbody>\n",
       "    <tr>\n",
       "      <th rowspan=\"8\" valign=\"top\">1000</th>\n",
       "      <th>5</th>\n",
       "      <td>186.0</td>\n",
       "      <td>22.0</td>\n",
       "      <td>22.0</td>\n",
       "      <td>2257.0</td>\n",
       "    </tr>\n",
       "    <tr>\n",
       "      <th>6</th>\n",
       "      <td>230.0</td>\n",
       "      <td>43.0</td>\n",
       "      <td>60.0</td>\n",
       "      <td>23262.0</td>\n",
       "    </tr>\n",
       "    <tr>\n",
       "      <th>7</th>\n",
       "      <td>393.0</td>\n",
       "      <td>47.0</td>\n",
       "      <td>75.0</td>\n",
       "      <td>14017.0</td>\n",
       "    </tr>\n",
       "    <tr>\n",
       "      <th>8</th>\n",
       "      <td>470.0</td>\n",
       "      <td>52.0</td>\n",
       "      <td>81.0</td>\n",
       "      <td>14072.0</td>\n",
       "    </tr>\n",
       "    <tr>\n",
       "      <th>9</th>\n",
       "      <td>536.0</td>\n",
       "      <td>58.0</td>\n",
       "      <td>57.0</td>\n",
       "      <td>14583.0</td>\n",
       "    </tr>\n",
       "    <tr>\n",
       "      <th>10</th>\n",
       "      <td>420.0</td>\n",
       "      <td>57.0</td>\n",
       "      <td>73.0</td>\n",
       "      <td>14717.0</td>\n",
       "    </tr>\n",
       "    <tr>\n",
       "      <th>11</th>\n",
       "      <td>387.0</td>\n",
       "      <td>43.0</td>\n",
       "      <td>58.0</td>\n",
       "      <td>14769.0</td>\n",
       "    </tr>\n",
       "    <tr>\n",
       "      <th>12</th>\n",
       "      <td>387.0</td>\n",
       "      <td>46.0</td>\n",
       "      <td>70.0</td>\n",
       "      <td>9829.0</td>\n",
       "    </tr>\n",
       "    <tr>\n",
       "      <th rowspan=\"2\" valign=\"top\">1001</th>\n",
       "      <th>11</th>\n",
       "      <td>503.0</td>\n",
       "      <td>59.0</td>\n",
       "      <td>NaN</td>\n",
       "      <td>18460.0</td>\n",
       "    </tr>\n",
       "    <tr>\n",
       "      <th>12</th>\n",
       "      <td>493.0</td>\n",
       "      <td>63.0</td>\n",
       "      <td>NaN</td>\n",
       "      <td>14059.0</td>\n",
       "    </tr>\n",
       "  </tbody>\n",
       "</table>\n",
       "</div>"
      ],
      "text/plain": [
       "               duration  calls  messages  mb_used\n",
       "user_id month                                    \n",
       "1000    5         186.0   22.0      22.0   2257.0\n",
       "        6         230.0   43.0      60.0  23262.0\n",
       "        7         393.0   47.0      75.0  14017.0\n",
       "        8         470.0   52.0      81.0  14072.0\n",
       "        9         536.0   58.0      57.0  14583.0\n",
       "        10        420.0   57.0      73.0  14717.0\n",
       "        11        387.0   43.0      58.0  14769.0\n",
       "        12        387.0   46.0      70.0   9829.0\n",
       "1001    11        503.0   59.0       NaN  18460.0\n",
       "        12        493.0   63.0       NaN  14059.0"
      ]
     },
     "execution_count": 9,
     "metadata": {},
     "output_type": "execute_result"
    }
   ],
   "source": [
    "# для подсчета при создании сводной таблицы сгенерируем уникальный код из имени и населенного пункта\n",
    "users['unique_name'] = users['city'] + users['first_name'] + users['last_name']\n",
    "\n",
    "# сводная таблица по звонкам\n",
    "calls_temp = calls.merge(users, on='user_id', how='inner')\n",
    "calls_grouped = calls_temp.pivot_table(values=['unique_name', 'duration'], \n",
    "                       index=['user_id', 'month'], \n",
    "                       aggfunc={'unique_name': 'count', 'duration': 'sum'})\n",
    "calls_grouped.columns = ['duration', 'calls']\n",
    "\n",
    "# сводная таблица по сообщениям\n",
    "messages['month'] = messages['message_date'].dt.month\n",
    "messages_temp = messages.merge(users, on='user_id', how='inner')\n",
    "messages_grouped = messages_temp.pivot_table(values='unique_name', \n",
    "                       index=['user_id', 'month'], \n",
    "                       aggfunc={'unique_name': 'count'})\n",
    "messages_grouped.columns = ['messages']\n",
    "\n",
    "# сводная таблица по интернет-трафику\n",
    "internet['month'] = internet['session_date'].dt.month\n",
    "internet_temp = internet.merge(users, on='user_id', how='inner')\n",
    "internet_grouped = internet_temp.pivot_table(values='mb_used', \n",
    "                       index=['user_id', 'month'], \n",
    "                       aggfunc={'mb_used': 'sum'})\n",
    "internet_grouped.columns = ['mb_used']\n",
    "\n",
    "# объединяем все три сводные таблицы в одну\n",
    "dfs = [calls_grouped, messages_grouped, internet_grouped]\n",
    "grouped_data = reduce(lambda left,right: pd.merge(left,right,on=['user_id', 'month'], how='outer'), dfs)\n",
    "grouped_data.head(10)"
   ]
  },
  {
   "cell_type": "markdown",
   "metadata": {},
   "source": [
    "Теперь для каждого пользователя посчитаем помесячную выручку (вычтем бесплатный лимит из суммарного количества звонков, сообщений и интернет-трафика; остаток умножим на значение из тарифного плана; прибавим абонентскую плату, соответствующую тарифному плану)."
   ]
  },
  {
   "cell_type": "code",
   "execution_count": 10,
   "metadata": {},
   "outputs": [
    {
     "data": {
      "text/html": [
       "<div>\n",
       "<style scoped>\n",
       "    .dataframe tbody tr th:only-of-type {\n",
       "        vertical-align: middle;\n",
       "    }\n",
       "\n",
       "    .dataframe tbody tr th {\n",
       "        vertical-align: top;\n",
       "    }\n",
       "\n",
       "    .dataframe thead th {\n",
       "        text-align: right;\n",
       "    }\n",
       "</style>\n",
       "<table border=\"1\" class=\"dataframe\">\n",
       "  <thead>\n",
       "    <tr style=\"text-align: right;\">\n",
       "      <th></th>\n",
       "      <th></th>\n",
       "      <th>duration</th>\n",
       "      <th>calls</th>\n",
       "      <th>messages</th>\n",
       "      <th>mb_used</th>\n",
       "      <th>tariff</th>\n",
       "      <th>revenue</th>\n",
       "    </tr>\n",
       "    <tr>\n",
       "      <th>user_id</th>\n",
       "      <th>month</th>\n",
       "      <th></th>\n",
       "      <th></th>\n",
       "      <th></th>\n",
       "      <th></th>\n",
       "      <th></th>\n",
       "      <th></th>\n",
       "    </tr>\n",
       "  </thead>\n",
       "  <tbody>\n",
       "    <tr>\n",
       "      <th rowspan=\"8\" valign=\"top\">1000</th>\n",
       "      <th>5</th>\n",
       "      <td>186.0</td>\n",
       "      <td>22.0</td>\n",
       "      <td>22.0</td>\n",
       "      <td>2257.0</td>\n",
       "      <td>ultra</td>\n",
       "      <td>1950.00000</td>\n",
       "    </tr>\n",
       "    <tr>\n",
       "      <th>6</th>\n",
       "      <td>230.0</td>\n",
       "      <td>43.0</td>\n",
       "      <td>60.0</td>\n",
       "      <td>23262.0</td>\n",
       "      <td>ultra</td>\n",
       "      <td>1950.00000</td>\n",
       "    </tr>\n",
       "    <tr>\n",
       "      <th>7</th>\n",
       "      <td>393.0</td>\n",
       "      <td>47.0</td>\n",
       "      <td>75.0</td>\n",
       "      <td>14017.0</td>\n",
       "      <td>ultra</td>\n",
       "      <td>1950.00000</td>\n",
       "    </tr>\n",
       "    <tr>\n",
       "      <th>8</th>\n",
       "      <td>470.0</td>\n",
       "      <td>52.0</td>\n",
       "      <td>81.0</td>\n",
       "      <td>14072.0</td>\n",
       "      <td>ultra</td>\n",
       "      <td>1950.00000</td>\n",
       "    </tr>\n",
       "    <tr>\n",
       "      <th>9</th>\n",
       "      <td>536.0</td>\n",
       "      <td>58.0</td>\n",
       "      <td>57.0</td>\n",
       "      <td>14583.0</td>\n",
       "      <td>ultra</td>\n",
       "      <td>1950.00000</td>\n",
       "    </tr>\n",
       "    <tr>\n",
       "      <th>10</th>\n",
       "      <td>420.0</td>\n",
       "      <td>57.0</td>\n",
       "      <td>73.0</td>\n",
       "      <td>14717.0</td>\n",
       "      <td>ultra</td>\n",
       "      <td>1950.00000</td>\n",
       "    </tr>\n",
       "    <tr>\n",
       "      <th>11</th>\n",
       "      <td>387.0</td>\n",
       "      <td>43.0</td>\n",
       "      <td>58.0</td>\n",
       "      <td>14769.0</td>\n",
       "      <td>ultra</td>\n",
       "      <td>1950.00000</td>\n",
       "    </tr>\n",
       "    <tr>\n",
       "      <th>12</th>\n",
       "      <td>387.0</td>\n",
       "      <td>46.0</td>\n",
       "      <td>70.0</td>\n",
       "      <td>9829.0</td>\n",
       "      <td>ultra</td>\n",
       "      <td>1950.00000</td>\n",
       "    </tr>\n",
       "    <tr>\n",
       "      <th rowspan=\"2\" valign=\"top\">1001</th>\n",
       "      <th>11</th>\n",
       "      <td>503.0</td>\n",
       "      <td>59.0</td>\n",
       "      <td>0.0</td>\n",
       "      <td>18460.0</td>\n",
       "      <td>smart</td>\n",
       "      <td>1164.46875</td>\n",
       "    </tr>\n",
       "    <tr>\n",
       "      <th>12</th>\n",
       "      <td>493.0</td>\n",
       "      <td>63.0</td>\n",
       "      <td>0.0</td>\n",
       "      <td>14059.0</td>\n",
       "      <td>smart</td>\n",
       "      <td>550.00000</td>\n",
       "    </tr>\n",
       "  </tbody>\n",
       "</table>\n",
       "</div>"
      ],
      "text/plain": [
       "               duration  calls  messages  mb_used tariff     revenue\n",
       "user_id month                                                       \n",
       "1000    5         186.0   22.0      22.0   2257.0  ultra  1950.00000\n",
       "        6         230.0   43.0      60.0  23262.0  ultra  1950.00000\n",
       "        7         393.0   47.0      75.0  14017.0  ultra  1950.00000\n",
       "        8         470.0   52.0      81.0  14072.0  ultra  1950.00000\n",
       "        9         536.0   58.0      57.0  14583.0  ultra  1950.00000\n",
       "        10        420.0   57.0      73.0  14717.0  ultra  1950.00000\n",
       "        11        387.0   43.0      58.0  14769.0  ultra  1950.00000\n",
       "        12        387.0   46.0      70.0   9829.0  ultra  1950.00000\n",
       "1001    11        503.0   59.0       0.0  18460.0  smart  1164.46875\n",
       "        12        493.0   63.0       0.0  14059.0  smart   550.00000"
      ]
     },
     "execution_count": 10,
     "metadata": {},
     "output_type": "execute_result"
    }
   ],
   "source": [
    "# пропущенные значения заменяем на нули\n",
    "grouped_data.loc[grouped_data['duration'].isna(), 'duration'] = 0\n",
    "grouped_data.loc[grouped_data['messages'].isna(), 'messages'] = 0\n",
    "grouped_data.loc[grouped_data['mb_used'].isna(), 'mb_used'] = 0\n",
    "\n",
    "# добавим наименование используемого тарифа для каждого пользователя\n",
    "for user in grouped_data.index:\n",
    "    grouped_data.loc[user, 'tariff'] = users.loc[user[0]-1000, 'tariff']\n",
    "\n",
    "# функция подсчета выручки с каждого пользователя в месяц\n",
    "def det_revenue(row):\n",
    "    messages = row['messages']\n",
    "    mb_used = row['mb_used']\n",
    "    tariff = row['tariff']\n",
    "    duration = row['duration']\n",
    "    calls = row['calls']\n",
    "    \n",
    "    if tariff == 'smart':\n",
    "        extra_duration = duration - tariffs.loc[0, 'minutes_included']\n",
    "        extra_mb = mb_used - tariffs.loc[0, 'mg_per_month_included']\n",
    "        extra_messages = messages - tariffs.loc[0, 'messages_included']\n",
    "        \n",
    "        if extra_duration < 0: extra_duration = 0\n",
    "        if extra_mb < 0: extra_mb = 0\n",
    "        if extra_messages < 0: extra_messages = 0\n",
    "        \n",
    "        return (tariffs.loc[0, 'rub_per_message'] * extra_messages + \n",
    "                   (tariffs.loc[0, 'rub_per_gb'] / 1024) * extra_mb + \n",
    "                   tariffs.loc[0, 'rub_per_minute'] * extra_duration + \n",
    "                   tariffs.loc[0, 'rub_monthly_fee']\n",
    "                  ) \n",
    "    else:\n",
    "        extra_duration = duration - tariffs.loc[1, 'minutes_included']\n",
    "        extra_mb = mb_used - tariffs.loc[1, 'mg_per_month_included']\n",
    "        extra_messages = messages - tariffs.loc[1, 'messages_included']\n",
    "        \n",
    "        if extra_duration < 0: extra_duration = 0\n",
    "        if extra_mb < 0: extra_mb = 0\n",
    "        if extra_messages < 0: extra_messages = 0\n",
    "        \n",
    "        return (tariffs.loc[1, 'rub_per_message'] * extra_messages + \n",
    "                   (tariffs.loc[1, 'rub_per_gb'] / 1024) * extra_mb + \n",
    "                   tariffs.loc[1, 'rub_per_minute'] * extra_duration + \n",
    "                   tariffs.loc[1, 'rub_monthly_fee']\n",
    "                  )\n",
    "\n",
    "grouped_data['revenue'] = grouped_data.apply(det_revenue, axis=1)\n",
    "grouped_data.head(10)"
   ]
  },
  {
   "cell_type": "markdown",
   "metadata": {},
   "source": [
    "# Анализ данных"
   ]
  },
  {
   "cell_type": "markdown",
   "metadata": {},
   "source": [
    "Посчитаем, сколько в среднем каждому пользователю требуется минут, сообщений и мегабайт в месяц"
   ]
  },
  {
   "cell_type": "code",
   "execution_count": 11,
   "metadata": {},
   "outputs": [
    {
     "data": {
      "text/html": [
       "<div>\n",
       "<style scoped>\n",
       "    .dataframe tbody tr th:only-of-type {\n",
       "        vertical-align: middle;\n",
       "    }\n",
       "\n",
       "    .dataframe tbody tr th {\n",
       "        vertical-align: top;\n",
       "    }\n",
       "\n",
       "    .dataframe thead th {\n",
       "        text-align: right;\n",
       "    }\n",
       "</style>\n",
       "<table border=\"1\" class=\"dataframe\">\n",
       "  <thead>\n",
       "    <tr style=\"text-align: right;\">\n",
       "      <th></th>\n",
       "      <th>duration</th>\n",
       "      <th>mb_used</th>\n",
       "      <th>messages</th>\n",
       "      <th>revenue</th>\n",
       "      <th>tariff</th>\n",
       "    </tr>\n",
       "    <tr>\n",
       "      <th>user_id</th>\n",
       "      <th></th>\n",
       "      <th></th>\n",
       "      <th></th>\n",
       "      <th></th>\n",
       "      <th></th>\n",
       "    </tr>\n",
       "  </thead>\n",
       "  <tbody>\n",
       "    <tr>\n",
       "      <th>1000</th>\n",
       "      <td>390.0</td>\n",
       "      <td>14327.5</td>\n",
       "      <td>65.0</td>\n",
       "      <td>1950.000000</td>\n",
       "      <td>ultra</td>\n",
       "    </tr>\n",
       "    <tr>\n",
       "      <th>1001</th>\n",
       "      <td>498.0</td>\n",
       "      <td>16259.5</td>\n",
       "      <td>0.0</td>\n",
       "      <td>857.234375</td>\n",
       "      <td>smart</td>\n",
       "    </tr>\n",
       "    <tr>\n",
       "      <th>1002</th>\n",
       "      <td>254.0</td>\n",
       "      <td>17615.0</td>\n",
       "      <td>11.0</td>\n",
       "      <td>990.429688</td>\n",
       "      <td>smart</td>\n",
       "    </tr>\n",
       "    <tr>\n",
       "      <th>1003</th>\n",
       "      <td>959.0</td>\n",
       "      <td>11369.0</td>\n",
       "      <td>83.0</td>\n",
       "      <td>1950.000000</td>\n",
       "      <td>ultra</td>\n",
       "    </tr>\n",
       "    <tr>\n",
       "      <th>1004</th>\n",
       "      <td>157.0</td>\n",
       "      <td>17831.0</td>\n",
       "      <td>154.5</td>\n",
       "      <td>1950.000000</td>\n",
       "      <td>ultra</td>\n",
       "    </tr>\n",
       "  </tbody>\n",
       "</table>\n",
       "</div>"
      ],
      "text/plain": [
       "         duration  mb_used  messages      revenue tariff\n",
       "user_id                                                 \n",
       "1000        390.0  14327.5      65.0  1950.000000  ultra\n",
       "1001        498.0  16259.5       0.0   857.234375  smart\n",
       "1002        254.0  17615.0      11.0   990.429688  smart\n",
       "1003        959.0  11369.0      83.0  1950.000000  ultra\n",
       "1004        157.0  17831.0     154.5  1950.000000  ultra"
      ]
     },
     "execution_count": 11,
     "metadata": {},
     "output_type": "execute_result"
    }
   ],
   "source": [
    "medians = grouped_data.pivot_table(index='user_id', values=['duration', 'messages', 'mb_used', 'revenue'], aggfunc='median')\n",
    "for user_id in users['user_id']:\n",
    "    medians.loc[user_id, 'tariff'] = users.loc[user_id-1000, 'tariff']\n",
    "medians.head()"
   ]
  },
  {
   "cell_type": "markdown",
   "metadata": {},
   "source": [
    "Найдем медиану, дисперсию и стандартное отклонение:"
   ]
  },
  {
   "cell_type": "code",
   "execution_count": 12,
   "metadata": {},
   "outputs": [
    {
     "data": {
      "text/html": [
       "<div>\n",
       "<style scoped>\n",
       "    .dataframe tbody tr th:only-of-type {\n",
       "        vertical-align: middle;\n",
       "    }\n",
       "\n",
       "    .dataframe tbody tr th {\n",
       "        vertical-align: top;\n",
       "    }\n",
       "\n",
       "    .dataframe thead tr th {\n",
       "        text-align: left;\n",
       "    }\n",
       "\n",
       "    .dataframe thead tr:last-of-type th {\n",
       "        text-align: right;\n",
       "    }\n",
       "</style>\n",
       "<table border=\"1\" class=\"dataframe\">\n",
       "  <thead>\n",
       "    <tr>\n",
       "      <th></th>\n",
       "      <th colspan=\"3\" halign=\"left\">duration</th>\n",
       "      <th colspan=\"3\" halign=\"left\">mb_used</th>\n",
       "      <th colspan=\"3\" halign=\"left\">messages</th>\n",
       "    </tr>\n",
       "    <tr>\n",
       "      <th></th>\n",
       "      <th>median</th>\n",
       "      <th>std</th>\n",
       "      <th>var</th>\n",
       "      <th>median</th>\n",
       "      <th>std</th>\n",
       "      <th>var</th>\n",
       "      <th>median</th>\n",
       "      <th>std</th>\n",
       "      <th>var</th>\n",
       "    </tr>\n",
       "    <tr>\n",
       "      <th>tariff</th>\n",
       "      <th></th>\n",
       "      <th></th>\n",
       "      <th></th>\n",
       "      <th></th>\n",
       "      <th></th>\n",
       "      <th></th>\n",
       "      <th></th>\n",
       "      <th></th>\n",
       "      <th></th>\n",
       "    </tr>\n",
       "  </thead>\n",
       "  <tbody>\n",
       "    <tr>\n",
       "      <th>smart</th>\n",
       "      <td>516.5</td>\n",
       "      <td>187.104534</td>\n",
       "      <td>35008.106510</td>\n",
       "      <td>16955.00</td>\n",
       "      <td>4181.498288</td>\n",
       "      <td>1.748493e+07</td>\n",
       "      <td>28.5</td>\n",
       "      <td>28.010653</td>\n",
       "      <td>784.596662</td>\n",
       "    </tr>\n",
       "    <tr>\n",
       "      <th>ultra</th>\n",
       "      <td>629.5</td>\n",
       "      <td>354.039151</td>\n",
       "      <td>125343.720112</td>\n",
       "      <td>19751.75</td>\n",
       "      <td>8901.975727</td>\n",
       "      <td>7.924517e+07</td>\n",
       "      <td>47.5</td>\n",
       "      <td>49.236809</td>\n",
       "      <td>2424.263318</td>\n",
       "    </tr>\n",
       "  </tbody>\n",
       "</table>\n",
       "</div>"
      ],
      "text/plain": [
       "       duration                              mb_used               \\\n",
       "         median         std            var    median          std   \n",
       "tariff                                                              \n",
       "smart     516.5  187.104534   35008.106510  16955.00  4181.498288   \n",
       "ultra     629.5  354.039151  125343.720112  19751.75  8901.975727   \n",
       "\n",
       "                     messages                          \n",
       "                 var   median        std          var  \n",
       "tariff                                                 \n",
       "smart   1.748493e+07     28.5  28.010653   784.596662  \n",
       "ultra   7.924517e+07     47.5  49.236809  2424.263318  "
      ]
     },
     "execution_count": 12,
     "metadata": {},
     "output_type": "execute_result"
    }
   ],
   "source": [
    "# описательная статистика:\n",
    "medians.dropna(subset=['duration'], inplace=True)\n",
    "desc_stat = medians.pivot_table(index=['tariff'], values=['duration', 'mb_used', 'messages'], \n",
    "                    aggfunc={'duration': [np.median, np.var, np.std], \n",
    "                             'mb_used': [np.median, np.var, np.std], \n",
    "                             'messages': [np.median, np.var, np.std]})\n",
    "desc_stat"
   ]
  },
  {
   "cell_type": "code",
   "execution_count": 13,
   "metadata": {},
   "outputs": [
    {
     "data": {
      "image/png": "[encoded data removed]",
      "text/plain": [
       "<Figure size 360x360 with 1 Axes>"
      ]
     },
     "metadata": {},
     "output_type": "display_data"
    },
    {
     "data": {
      "image/png": "[encoded data removed]",
      "text/plain": [
       "<Figure size 360x360 with 1 Axes>"
      ]
     },
     "metadata": {},
     "output_type": "display_data"
    },
    {
     "data": {
      "image/png": "[encoded data removed]",
      "text/plain": [
       "<Figure size 360x360 with 1 Axes>"
      ]
     },
     "metadata": {},
     "output_type": "display_data"
    }
   ],
   "source": [
    "for column in ['duration', 'mb_used', 'messages']:    \n",
    "    sns.catplot(x=\"tariff\", y=column, kind=\"box\", data=medians, orient='v')"
   ]
  },
  {
   "cell_type": "markdown",
   "metadata": {},
   "source": [
    "Минуты разговора, число сообщений и объем потраченного интернет-трафика по тарифу «Ультра» имеет **большую дисперсию** по сравнению с тарифом «Смарт», и медианы по вышеперечисленным признакам также смещены в большую сторону. Кроме того, выбросов в рамках более дешевого тарифа существенно больше."
   ]
  },
  {
   "cell_type": "code",
   "execution_count": 14,
   "metadata": {},
   "outputs": [
    {
     "data": {
      "image/png": "[encoded data removed]",
      "text/plain": [
       "<Figure size 432x288 with 1 Axes>"
      ]
     },
     "metadata": {},
     "output_type": "display_data"
    }
   ],
   "source": [
    "for tariff in ['ultra', 'smart']:\n",
    "    sns.distplot(medians.query('tariff == @tariff')['duration'], kde=False, label=tariff)\n",
    "_ = plt.legend(['ultra', 'smart'])"
   ]
  },
  {
   "cell_type": "code",
   "execution_count": 15,
   "metadata": {},
   "outputs": [
    {
     "data": {
      "image/png": "[encoded data removed]",
      "text/plain": [
       "<Figure size 432x288 with 1 Axes>"
      ]
     },
     "metadata": {},
     "output_type": "display_data"
    }
   ],
   "source": [
    "for tariff in ['ultra', 'smart']:\n",
    "    sns.distplot(medians.query('tariff == @tariff')['mb_used'], kde=False)\n",
    "_ = plt.legend(['ultra', 'smart'])"
   ]
  },
  {
   "cell_type": "code",
   "execution_count": 16,
   "metadata": {},
   "outputs": [
    {
     "data": {
      "image/png": "[encoded data removed]",
      "text/plain": [
       "<Figure size 432x288 with 1 Axes>"
      ]
     },
     "metadata": {},
     "output_type": "display_data"
    }
   ],
   "source": [
    "for tariff in ['ultra', 'smart']:\n",
    "    sns.distplot(medians.query('tariff == @tariff')['messages'], kde=False, label=tariff)\n",
    "_ = plt.legend(['ultra', 'smart'])"
   ]
  },
  {
   "cell_type": "markdown",
   "metadata": {},
   "source": [
    "По гистограммам наглядно видно, что дисперсия по тарифу \"Смарт\" меньше, чем у пользователей с тарифом \"Ультра\" по всем показателям: по длительности разговора, числу сообщений и использованному интернет-трафику. Также на гистограммах видно, что мода у \"Смарта\" явно выражена.\n",
    "\n",
    "Другими словами, *поведение пользователей тарифа \"Ультра\" более разнообразное с точки зрения потребления телекоммуникационных услуг*. **Пользователи дорогого тарифа более свободны в выборе того, как именно использовать объемы тарифного пакета**: возможно, использование дорогого тарифа помогает им не думать о том, что в какой-то момент у них отключится интернет или закончится пакет по минутам разговора."
   ]
  },
  {
   "cell_type": "markdown",
   "metadata": {},
   "source": [
    "# Проверка гипотез"
   ]
  },
  {
   "cell_type": "markdown",
   "metadata": {},
   "source": [
    "$H_0 $ — средняя выручка пользователей тарифа «Ультра» равна средней выручке пользователей тарифа «Смарт».\n",
    "\n",
    "$H_1 $ — средняя выручка пользователей тарифов «Ультра» и «Смарт» различаются.\n",
    "\n",
    "$\\alpha = 1\\%$"
   ]
  },
  {
   "cell_type": "code",
   "execution_count": 17,
   "metadata": {},
   "outputs": [
    {
     "name": "stdout",
     "output_type": "stream",
     "text": [
      "p-значение: 3.1202259436978366e-205\n",
      "Отвергаем нулевую гипотезу\n"
     ]
    }
   ],
   "source": [
    "ultra = grouped_data.query('tariff == \"ultra\"')['revenue']\n",
    "smart = grouped_data.query('tariff == \"smart\"')['revenue']\n",
    "\n",
    "alpha = .01\n",
    "\n",
    "results = st.ttest_ind(\n",
    "    ultra, \n",
    "    smart, \n",
    "    equal_var=False)\n",
    "\n",
    "print('p-значение:', results.pvalue)\n",
    "\n",
    "if (results.pvalue < alpha):\n",
    "    print(\"Отвергаем нулевую гипотезу\")\n",
    "else:\n",
    "    print(\"Не получилось отвергнуть нулевую гипотезу\")"
   ]
  },
  {
   "cell_type": "code",
   "execution_count": 18,
   "metadata": {},
   "outputs": [
    {
     "data": {
      "text/html": [
       "<div>\n",
       "<style scoped>\n",
       "    .dataframe tbody tr th:only-of-type {\n",
       "        vertical-align: middle;\n",
       "    }\n",
       "\n",
       "    .dataframe tbody tr th {\n",
       "        vertical-align: top;\n",
       "    }\n",
       "\n",
       "    .dataframe thead th {\n",
       "        text-align: right;\n",
       "    }\n",
       "</style>\n",
       "<table border=\"1\" class=\"dataframe\">\n",
       "  <thead>\n",
       "    <tr style=\"text-align: right;\">\n",
       "      <th></th>\n",
       "      <th>revenue</th>\n",
       "    </tr>\n",
       "    <tr>\n",
       "      <th>tariff</th>\n",
       "      <th></th>\n",
       "    </tr>\n",
       "  </thead>\n",
       "  <tbody>\n",
       "    <tr>\n",
       "      <th>smart</th>\n",
       "      <td>1135.0</td>\n",
       "    </tr>\n",
       "    <tr>\n",
       "      <th>ultra</th>\n",
       "      <td>1950.0</td>\n",
       "    </tr>\n",
       "  </tbody>\n",
       "</table>\n",
       "</div>"
      ],
      "text/plain": [
       "        revenue\n",
       "tariff         \n",
       "smart    1135.0\n",
       "ultra    1950.0"
      ]
     },
     "execution_count": 18,
     "metadata": {},
     "output_type": "execute_result"
    }
   ],
   "source": [
    "grouped_data.pivot_table(index='tariff', values='revenue', aggfunc='median')"
   ]
  },
  {
   "cell_type": "code",
   "execution_count": 19,
   "metadata": {},
   "outputs": [
    {
     "data": {
      "image/png": "[encoded data removed]",
      "text/plain": [
       "<Figure size 360x360 with 1 Axes>"
      ]
     },
     "metadata": {},
     "output_type": "display_data"
    }
   ],
   "source": [
    "_ = sns.catplot(x=\"tariff\", y='revenue', kind=\"box\", data=grouped_data, orient='v')"
   ]
  },
  {
   "cell_type": "markdown",
   "metadata": {},
   "source": [
    "Средние значения выручки по тарифам различаются почти в 2 раза. Если у пользователя подключен тариф \"Смарт\" с абонентской платой в 550 рублей, то он скорее всего по итогам месяца заплатит гораздо больше из-за нехватки услуг в рамках тарифного пакета.\n",
    "\n",
    "В заключение можно подтвердить **с уверенностью 99%, что доходы \"Мегалайна\" с пользователя по тарифу \"Ультра\" действительно отличаются по сравнению с доходами от тарифа \"Смарт\"**."
   ]
  },
  {
   "cell_type": "markdown",
   "metadata": {},
   "source": [
    "____\n",
    "$H_0 $ — средняя выручка пользователей из Москвы равна средней выручке пользователей из других регионов.\n",
    "\n",
    "$H_1 $ — средняя выручка пользователей из Москвы отличается от средней выручке пользователей из других регионов.\n",
    "\n",
    "$\\alpha = 1\\%$"
   ]
  },
  {
   "cell_type": "code",
   "execution_count": 20,
   "metadata": {},
   "outputs": [
    {
     "name": "stdout",
     "output_type": "stream",
     "text": [
      "p-значение: 0.7853783687870594\n",
      "Не получилось отвергнуть нулевую гипотезу\n"
     ]
    }
   ],
   "source": [
    "# добавим наименование населенного пункта для каждого пользователя\n",
    "for user in grouped_data.index:\n",
    "    grouped_data.loc[user, 'city'] = users.loc[user[0]-1000, 'city']\n",
    "\n",
    "moscow = grouped_data.query('city == \"Москва\"')['revenue']\n",
    "regions = grouped_data.query('city != \"Москва\"')['revenue']\n",
    "\n",
    "alpha = .01\n",
    "\n",
    "results = st.ttest_ind(\n",
    "    moscow, \n",
    "    regions, \n",
    "    equal_var=False)\n",
    "\n",
    "print('p-значение:', results.pvalue)\n",
    "\n",
    "if (results.pvalue < alpha):\n",
    "    print(\"Отвергаем нулевую гипотезу\")\n",
    "else:\n",
    "    print(\"Не получилось отвергнуть нулевую гипотезу\")"
   ]
  },
  {
   "cell_type": "code",
   "execution_count": 21,
   "metadata": {},
   "outputs": [
    {
     "data": {
      "text/html": [
       "<div>\n",
       "<style scoped>\n",
       "    .dataframe tbody tr th:only-of-type {\n",
       "        vertical-align: middle;\n",
       "    }\n",
       "\n",
       "    .dataframe tbody tr th {\n",
       "        vertical-align: top;\n",
       "    }\n",
       "\n",
       "    .dataframe thead th {\n",
       "        text-align: right;\n",
       "    }\n",
       "</style>\n",
       "<table border=\"1\" class=\"dataframe\">\n",
       "  <thead>\n",
       "    <tr style=\"text-align: right;\">\n",
       "      <th></th>\n",
       "      <th>revenue</th>\n",
       "    </tr>\n",
       "    <tr>\n",
       "      <th>region</th>\n",
       "      <th></th>\n",
       "    </tr>\n",
       "  </thead>\n",
       "  <tbody>\n",
       "    <tr>\n",
       "      <th>Другой регион</th>\n",
       "      <td>1712.851562</td>\n",
       "    </tr>\n",
       "    <tr>\n",
       "      <th>Москва</th>\n",
       "      <td>1867.007812</td>\n",
       "    </tr>\n",
       "  </tbody>\n",
       "</table>\n",
       "</div>"
      ],
      "text/plain": [
       "                   revenue\n",
       "region                    \n",
       "Другой регион  1712.851562\n",
       "Москва         1867.007812"
      ]
     },
     "execution_count": 21,
     "metadata": {},
     "output_type": "execute_result"
    }
   ],
   "source": [
    "def det_region(city):\n",
    "    if city == 'Москва': return 'Москва'\n",
    "    else: return 'Другой регион'\n",
    "    \n",
    "grouped_data['region'] = grouped_data['city'].apply(det_region)\n",
    "grouped_data.pivot_table(index='region', values='revenue', aggfunc='median')"
   ]
  },
  {
   "cell_type": "code",
   "execution_count": 22,
   "metadata": {},
   "outputs": [
    {
     "data": {
      "image/png": "[encoded data removed]",
      "text/plain": [
       "<Figure size 360x360 with 1 Axes>"
      ]
     },
     "metadata": {},
     "output_type": "display_data"
    }
   ],
   "source": [
    "_ = sns.catplot(x=\"region\", y='revenue', kind=\"box\", data=grouped_data, orient='v')"
   ]
  },
  {
   "cell_type": "markdown",
   "metadata": {},
   "source": [
    "Данный статистический тест не дал возможности опровергунть исходную гипотезу о том, что доходы от пользователей из Москвы и из других регионов равны. Действительно, доходы в Московском регионе практически не отличаются от других населенных пунктов.\n",
    "\n",
    "Если бы мы отклонили нулевую гипотезу и констатировали, что доходы \"Мегалайна\" с каждого пользователя в Москве отличаются от доходов в других регионах, мы бы с вероятностью 50,3% ошиблись."
   ]
  },
  {
   "cell_type": "markdown",
   "metadata": {},
   "source": [
    "# Общий вывод"
   ]
  },
  {
   "cell_type": "markdown",
   "metadata": {},
   "source": [
    "По результатам статистического анализа доходы от тарифа «Ультра» больше, чем от тарифа «Смарт»: в среднем «Мегалайн» от одного пользователя в месяц получает 1950 рублей и 988 рублей соответственно $(p-значение = o(1)$, $\\alpha = 1\\%)$.\n",
    "\n",
    "Особенности использования тарифов заключаются в следующем:\n",
    "- *Пользователям тарифа «Смарт»* не хватает услуг в рамках тарифного пакета: кроме абонентской платы пользователи *в среднем доплачивают еще 438 рублей ежемесячно (+79,6%)*. \n",
    "- *Пользователи тарифа «Ультра»*, напротив, не используют тарифный пакет в полном объеме.\n",
    "- Средние доходы от пользователей в Москве *не отличаются* от доходов в других населенных пунктах: разница статистически незначима (p-значение: 0,503) и составляет *188 руб.: 1734 руб. в Москве против 1546 руб в других населенных пунктах*."
   ]
  },
  {
   "cell_type": "code",
   "execution_count": null,
   "metadata": {},
   "outputs": [],
   "source": []
  }
 ],
 "metadata": {
  "kernelspec": {
   "display_name": "Python 3",
   "language": "python",
   "name": "python3"
  },
  "language_info": {
   "codemirror_mode": {
    "name": "ipython",
    "version": 3
   },
   "file_extension": ".py",
   "mimetype": "text/x-python",
   "name": "python",
   "nbconvert_exporter": "python",
   "pygments_lexer": "ipython3",
   "version": "3.8.1"
  }
 },
 "nbformat": 4,
 "nbformat_minor": 1
}
