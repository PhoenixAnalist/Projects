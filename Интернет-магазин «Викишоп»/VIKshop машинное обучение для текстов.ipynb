{
 "cells": [
  {
   "cell_type": "markdown",
   "metadata": {},
   "source": [
    "<font color='blue' size=5><b>Комментарий ревьювера</b></font>\n",
    "\n",
    "<font color='blue'>Рад снова тебя приветствовать, Михаил! Меня зовут Григорий Звездин, и я буду проверять этот проект. Спасибо за проделанную работу! Предлагаю общаться на «ты».</font>\n",
    "\n",
    "<font color='blue'>Я буду использовать различные цвета, чтобы было удобнее воспринимать мои комментарии:</font>\n",
    "\n",
    "\n",
    "---\n",
    "\n",
    "\n",
    "<font color='blue'>синий текст - просто текст комментария</font>\n",
    "\n",
    "<font color='green'>зеленый текст - все отлично</font>\n",
    "\n",
    "<font color='orange'>оранжевый текст - сделано все правильно, однако есть рекомендации, на что стоит обратить внимание</font>\n",
    "\n",
    "<font color='red'>красный текст - есть недочеты</font>\n",
    "\n",
    "\n",
    "---\n",
    "\n",
    "<font color='blue'>Пожалуйста, не удаляй мои комментарии в случае возврата работы, так будет проще разобраться, какие были недочеты, а также сразу увидеть исправленное. </font>\n",
    "\n",
    "Ответы на мои комментарии лучше тоже помечать.\n",
    "Например: <font color='blue'><b>Комментарий студента</b></font>\n",
    "\n",
    "<font color='blue'><b>Давай смотреть, что получилось!</b></font>"
   ]
  },
  {
   "cell_type": "markdown",
   "metadata": {
    "id": "aLb2zo0NXzdP"
   },
   "source": [
    "Интернет-магазин «Викишоп» запускает новый сервис. Теперь пользователи могут редактировать и дополнять описания товаров, как в вики-сообществах. То есть клиенты предлагают свои правки и комментируют изменения других. Магазину нужен инструмент, который будет искать токсичные комментарии и отправлять их на модерацию. \n",
    "\n",
    "Обучите модель классифицировать комментарии на позитивные и негативные. В вашем распоряжении набор данных с разметкой о токсичности правок.\n",
    "\n",
    "Постройте модель со значением метрики качества *F1* не меньше 0.75. \n",
    "\n",
    "### Инструкция по выполнению проекта\n",
    "\n",
    "1. Загрузите и подготовьте данные.\n",
    "2. Обучите разные модели. \n",
    "3. Сделайте выводы.\n",
    "\n",
    "Для выполнения проекта применять *BERT* необязательно, но вы можете попробовать.\n",
    "\n",
    "### Описание данных\n",
    "\n",
    "Данные находятся в файле `toxic_comments.csv`. Столбец *text* в нём содержит текст комментария, а *toxic* — целевой признак."
   ]
  },
  {
   "cell_type": "markdown",
   "metadata": {
    "id": "y7sjsLBzXzdP"
   },
   "source": [
    "# 1. Подготовка"
   ]
  },
  {
   "cell_type": "markdown",
   "metadata": {
    "id": "JPXW_WQ6XzdP"
   },
   "source": [
    "## 1.1 Библиотеки"
   ]
  },
  {
   "cell_type": "code",
   "execution_count": null,
   "metadata": {
    "id": "dTMsWtuRXzdP"
   },
   "outputs": [],
   "source": [
    "import pandas as pd\n",
    "import numpy as np\n",
    "\n",
    "import matplotlib.pyplot as plt\n",
    "import seaborn as sns\n",
    "\n",
    "from tqdm import notebook\n",
    "\n",
    "import re\n",
    "import torch\n",
    "from transformers import BertTokenizer, BertModel\n",
    "\n",
    "import nltk\n",
    "from nltk.corpus import stopwords as nltk_stopwords, wordnet\n",
    "from nltk.stem import WordNetLemmatizer\n",
    "\n",
    "from lightgbm import LGBMClassifier\n",
    "\n",
    "from sklearn.dummy import DummyClassifier\n",
    "from sklearn.feature_extraction.text import TfidfVectorizer\n",
    "from sklearn.linear_model import LogisticRegression\n",
    "from sklearn.metrics import f1_score, make_scorer\n",
    "from sklearn.model_selection import GridSearchCV, train_test_split\n",
    "from sklearn.svm import LinearSVC\n",
    "from sklearn.utils import shuffle"
   ]
  },
  {
   "cell_type": "markdown",
   "metadata": {},
   "source": [
    "<font color='blue'><b>Комментарий ревьювера</b></font> \\\n",
    "<font color='green'>Хороший набор, надеюсь, все будет реализовано :)"
   ]
  },
  {
   "cell_type": "markdown",
   "metadata": {
    "id": "tNW71AUlXzdQ"
   },
   "source": [
    "## 1.2 Преднастройки"
   ]
  },
  {
   "cell_type": "code",
   "execution_count": null,
   "metadata": {
    "id": "eaJ4_wEhXzdQ",
    "outputId": "d170969a-96d2-4c70-9ff8-9056cda4986d"
   },
   "outputs": [
    {
     "name": "stderr",
     "output_type": "stream",
     "text": [
      "[nltk_data] Downloading package averaged_perceptron_tagger to\n",
      "[nltk_data]     C:\\Users\\IvanDe\\AppData\\Roaming\\nltk_data...\n",
      "[nltk_data]   Package averaged_perceptron_tagger is already up-to-\n",
      "[nltk_data]       date!\n",
      "[nltk_data] Downloading package punkt to\n",
      "[nltk_data]     C:\\Users\\IvanDe\\AppData\\Roaming\\nltk_data...\n",
      "[nltk_data]   Package punkt is already up-to-date!\n",
      "[nltk_data] Downloading package wordnet to\n",
      "[nltk_data]     C:\\Users\\IvanDe\\AppData\\Roaming\\nltk_data...\n",
      "[nltk_data]   Package wordnet is already up-to-date!\n",
      "[nltk_data] Downloading package stopwords to\n",
      "[nltk_data]     C:\\Users\\IvanDe\\AppData\\Roaming\\nltk_data...\n",
      "[nltk_data]   Package stopwords is already up-to-date!\n"
     ]
    }
   ],
   "source": [
    "nltk.download('averaged_perceptron_tagger')\n",
    "nltk.download('punkt')\n",
    "nltk.download('wordnet')\n",
    "nltk.download('stopwords')\n",
    "stopwords = set(nltk_stopwords.words('english'))"
   ]
  },
  {
   "cell_type": "code",
   "execution_count": null,
   "metadata": {
    "id": "1ZySD2iKXzdR"
   },
   "outputs": [],
   "source": [
    "state = np.random.RandomState(21)"
   ]
  },
  {
   "cell_type": "code",
   "execution_count": null,
   "metadata": {
    "id": "fCAb_bXkXzdR"
   },
   "outputs": [],
   "source": [
    "sns.set()"
   ]
  },
  {
   "cell_type": "markdown",
   "metadata": {
    "id": "d-a8pnmKXzdR"
   },
   "source": [
    "## 1.3 Стандартные функции"
   ]
  },
  {
   "cell_type": "markdown",
   "metadata": {
    "id": "QjJarrVKXzdR"
   },
   "source": [
    "Функция `column_info` показывает информацию по столбцу."
   ]
  },
  {
   "cell_type": "code",
   "execution_count": null,
   "metadata": {
    "id": "TbLNWWbvXzdR"
   },
   "outputs": [],
   "source": [
    "def column_info(data, column, quantitative=False, mean=True, median=True, hist=True, bins=50):    \n",
    "    lost = data[column].isna().sum() #смотрим количество пропусков\n",
    "    total = data.shape[0] #длина всех значений переменной\n",
    "    print()\n",
    "    print('*** Информация по столбцу {} ***'.format(column))\n",
    "    print()\n",
    "    print('Тип данных столбца {}: {}:'.format(column, data[column].dtype))\n",
    "    print('В столбце {} пропущено {} из {} строк, что составляет {:.2%}'\n",
    "          .format(column, lost, total, lost / total)) #считаем процент пропусков\n",
    "    if quantitative:        \n",
    "        print('Минимальное значение: {:.2f}'.format(data[column].min()))\n",
    "        print('Максимальное значение: {:.2f}'.format(data[column].max()))\n",
    "        if mean:\n",
    "            print('Среднее значение: {:.2f}'.format(data[column].mean()))\n",
    "        if median:\n",
    "            print('Медианное значение: {:.2f}'.format(data[column].median()))\n",
    "        if hist:\n",
    "            gridsize = (5, 1)\n",
    "            fig = plt.figure(figsize=(15, 5))\n",
    "            ax1 = plt.subplot2grid(gridsize, (0, 0))\n",
    "            ax2 = plt.subplot2grid(gridsize, (1, 0), rowspan=4)                       \n",
    "            sns.boxplot(data[column], ax=ax1)            \n",
    "            sns.distplot(data[column], kde=False, bins=bins, ax=ax2)            \n",
    "            ax1.get_xaxis().set_visible(False)            \n",
    "            plt.show()                        \n",
    "    else:\n",
    "        print()\n",
    "        print('Количество значений в каждой из категорий:')\n",
    "        print(data[column].value_counts())        \n",
    "    print()"
   ]
  },
  {
   "cell_type": "markdown",
   "metadata": {
    "id": "EezSudH8XzdR"
   },
   "source": [
    "Функция `bar_chart` отображает информацию в виде баров в минималистичном виде."
   ]
  },
  {
   "cell_type": "code",
   "execution_count": null,
   "metadata": {
    "id": "DHj8C4GpXzdR"
   },
   "outputs": [],
   "source": [
    "def bar_chart(array, column_names, title, color='mediumseagreen', figsize=(6,4)):\n",
    "    plt.figure(figsize=figsize)    \n",
    "    n = len(array)\n",
    "    \n",
    "    bars = plt.bar(np.arange(n), array, color=color)\n",
    "    \n",
    "    for bar in bars:\n",
    "        height = bar.get_height()\n",
    "        plt.gca().text(bar.get_x() + bar.get_width()/2, height*.90, '{0:.{1}f}'.format(height, 2), \n",
    "                     ha='center', color='black', fontsize=11, alpha=0.8)\n",
    "\n",
    "    plt.tick_params(which='both', bottom=False, top=False, left=False, right=False, labelbottom=True) \n",
    "    \n",
    "    for spine in plt.gca().spines.values():\n",
    "        spine.set_visible(False)\n",
    "\n",
    "    plt.xticks(range(n), column_names, alpha=0.8);\n",
    "    plt.title(title, alpha=0.8)\n",
    "    plt.tight_layout()"
   ]
  },
  {
   "cell_type": "markdown",
   "metadata": {},
   "source": [
    "<font color='blue'><b>Комментарий ревьювера</b></font> \\\n",
    "<font color='green'>Отлично!"
   ]
  },
  {
   "cell_type": "markdown",
   "metadata": {
    "id": "w28w73qbXzdR"
   },
   "source": [
    "## 1.4 Исследование"
   ]
  },
  {
   "cell_type": "code",
   "execution_count": null,
   "metadata": {
    "id": "CX81dZW7XzdR",
    "outputId": "baa9be7e-0648-46e1-ec0e-45a98bf875df"
   },
   "outputs": [
    {
     "name": "stdout",
     "output_type": "stream",
     "text": [
      "<class 'pandas.core.frame.DataFrame'>\n",
      "RangeIndex: 159571 entries, 0 to 159570\n",
      "Data columns (total 2 columns):\n",
      " #   Column  Non-Null Count   Dtype \n",
      "---  ------  --------------   ----- \n",
      " 0   text    159571 non-null  object\n",
      " 1   toxic   159571 non-null  int64 \n",
      "dtypes: int64(1), object(1)\n",
      "memory usage: 2.4+ MB\n"
     ]
    }
   ],
   "source": [
    "df = pd.read_csv('/datasets/toxic_comments.csv')\n",
    "df.info()"
   ]
  },
  {
   "cell_type": "code",
   "execution_count": null,
   "metadata": {
    "id": "IIognbNDXzdR",
    "outputId": "49d6f5cb-6a60-4810-ac9c-dd8469b769ac"
   },
   "outputs": [
    {
     "data": {
      "text/html": [
       "<div>\n",
       "<style scoped>\n",
       "    .dataframe tbody tr th:only-of-type {\n",
       "        vertical-align: middle;\n",
       "    }\n",
       "\n",
       "    .dataframe tbody tr th {\n",
       "        vertical-align: top;\n",
       "    }\n",
       "\n",
       "    .dataframe thead th {\n",
       "        text-align: right;\n",
       "    }\n",
       "</style>\n",
       "<table border=\"1\" class=\"dataframe\">\n",
       "  <thead>\n",
       "    <tr style=\"text-align: right;\">\n",
       "      <th></th>\n",
       "      <th>text</th>\n",
       "      <th>toxic</th>\n",
       "    </tr>\n",
       "  </thead>\n",
       "  <tbody>\n",
       "    <tr>\n",
       "      <th>45925</th>\n",
       "      <td>Photograph \\n\\nThere's nothing wrong with your...</td>\n",
       "      <td>0</td>\n",
       "    </tr>\n",
       "    <tr>\n",
       "      <th>1242</th>\n",
       "      <td>\"\\nre this, it looks like Ultrabias/DY71. ^_^  \"</td>\n",
       "      <td>0</td>\n",
       "    </tr>\n",
       "    <tr>\n",
       "      <th>105698</th>\n",
       "      <td>No.  There is no imagery or significance easil...</td>\n",
       "      <td>0</td>\n",
       "    </tr>\n",
       "    <tr>\n",
       "      <th>125591</th>\n",
       "      <td>The title of this article shouldn't have a quo...</td>\n",
       "      <td>0</td>\n",
       "    </tr>\n",
       "    <tr>\n",
       "      <th>13235</th>\n",
       "      <td>This IP address has also vandalized Lancaster ...</td>\n",
       "      <td>0</td>\n",
       "    </tr>\n",
       "    <tr>\n",
       "      <th>78540</th>\n",
       "      <td>RE, adding to earlier post by (now out of sync...</td>\n",
       "      <td>0</td>\n",
       "    </tr>\n",
       "    <tr>\n",
       "      <th>62924</th>\n",
       "      <td>\"\\n\\nI didn't find them when I looked for name...</td>\n",
       "      <td>0</td>\n",
       "    </tr>\n",
       "    <tr>\n",
       "      <th>23152</th>\n",
       "      <td>\"\\nI also note that, contrary to your claim, n...</td>\n",
       "      <td>0</td>\n",
       "    </tr>\n",
       "    <tr>\n",
       "      <th>92549</th>\n",
       "      <td>I don't think we should say Yammy's the strong...</td>\n",
       "      <td>0</td>\n",
       "    </tr>\n",
       "    <tr>\n",
       "      <th>134736</th>\n",
       "      <td>changing username \\n\\ni forgot how to change u...</td>\n",
       "      <td>0</td>\n",
       "    </tr>\n",
       "  </tbody>\n",
       "</table>\n",
       "</div>"
      ],
      "text/plain": [
       "                                                     text  toxic\n",
       "45925   Photograph \\n\\nThere's nothing wrong with your...      0\n",
       "1242     \"\\nre this, it looks like Ultrabias/DY71. ^_^  \"      0\n",
       "105698  No.  There is no imagery or significance easil...      0\n",
       "125591  The title of this article shouldn't have a quo...      0\n",
       "13235   This IP address has also vandalized Lancaster ...      0\n",
       "78540   RE, adding to earlier post by (now out of sync...      0\n",
       "62924   \"\\n\\nI didn't find them when I looked for name...      0\n",
       "23152   \"\\nI also note that, contrary to your claim, n...      0\n",
       "92549   I don't think we should say Yammy's the strong...      0\n",
       "134736  changing username \\n\\ni forgot how to change u...      0"
      ]
     },
     "execution_count": 8,
     "metadata": {
      "tags": []
     },
     "output_type": "execute_result"
    }
   ],
   "source": [
    "df.sample(10, random_state=state)"
   ]
  },
  {
   "cell_type": "code",
   "execution_count": null,
   "metadata": {
    "id": "U3dfETQ7XzdS",
    "outputId": "7722ff83-4d1d-4629-b3f3-50f4177038d1"
   },
   "outputs": [
    {
     "data": {
      "text/plain": [
       "0"
      ]
     },
     "execution_count": 9,
     "metadata": {
      "tags": []
     },
     "output_type": "execute_result"
    }
   ],
   "source": [
    "df['text'].duplicated().sum()"
   ]
  },
  {
   "cell_type": "code",
   "execution_count": null,
   "metadata": {
    "id": "Bwz_4ToKXzdS",
    "outputId": "21e7a824-f57d-47b5-c3af-7b3ff0d17a4c"
   },
   "outputs": [
    {
     "name": "stdout",
     "output_type": "stream",
     "text": [
      "\n",
      "*** Информация по столбцу toxic ***\n",
      "\n",
      "Тип данных столбца toxic: int64:\n",
      "В столбце toxic пропущено 0 из 159571 строк, что составляет 0.00%\n",
      "\n",
      "Количество значений в каждой из категорий:\n",
      "0    143346\n",
      "1     16225\n",
      "Name: toxic, dtype: int64\n",
      "\n"
     ]
    }
   ],
   "source": [
    "column_info(df, 'toxic')"
   ]
  },
  {
   "cell_type": "markdown",
   "metadata": {
    "id": "8sj8eqYQXzdS"
   },
   "source": [
    "## 1.5 Подготовка"
   ]
  },
  {
   "cell_type": "code",
   "execution_count": null,
   "metadata": {
    "id": "rCL1wzQiXzdS"
   },
   "outputs": [],
   "source": [
    "def is_balanced(data, column):\n",
    "    print('Баланс классов: {:.2f}'.format(len(data[data[column]==0]) / len(data[data[column]==1])))"
   ]
  },
  {
   "cell_type": "code",
   "execution_count": null,
   "metadata": {
    "id": "mEvbDwlkXzdS",
    "outputId": "1795a8f6-0643-427f-f866-00c3120728f8"
   },
   "outputs": [
    {
     "name": "stdout",
     "output_type": "stream",
     "text": [
      "Баланс классов: 8.83\n"
     ]
    }
   ],
   "source": [
    "is_balanced(df, 'toxic')"
   ]
  },
  {
   "cell_type": "markdown",
   "metadata": {
    "id": "B50GGNphXzdS"
   },
   "source": [
    "Разбаланс классов некритический - можно работать с таким."
   ]
  },
  {
   "cell_type": "markdown",
   "metadata": {},
   "source": [
    "<font color='blue'><b>Комментарий ревьювера</b></font> \\\n",
    "<font color='orange'>Один класс встречается в 8 раз чаще другого, все-таки не назовешь такой дисбаланс некритическим"
   ]
  },
  {
   "cell_type": "markdown",
   "metadata": {
    "id": "WXRBiLxQXzdS"
   },
   "source": [
    "def downsample(data, target): \n",
    "    data_zeros = data[data[target] == 0] \n",
    "    data_ones = data[data[target] == 1]     \n",
    " \n",
    "    data = pd.concat([data_zeros.sample(n=len(data_ones), random_state=state)] + [data_ones])     \n",
    "    data = shuffle(data, random_state=state)\n",
    "    return data"
   ]
  },
  {
   "cell_type": "markdown",
   "metadata": {
    "id": "b8qzuDoGXzdS"
   },
   "source": [
    "Downsample пробовал на обучающей выборке. Результаты получаются только хуже."
   ]
  },
  {
   "cell_type": "markdown",
   "metadata": {},
   "source": [
    "<font color='blue'><b>Комментарий ревьювера</b></font> \\\n",
    "<font color='blue'>При таком даунсемплинге сильно уменьшается объем данных, вот и качество хуже. Когда данных мало, лучше пробовать апсемплинг"
   ]
  },
  {
   "cell_type": "markdown",
   "metadata": {
    "id": "URwgNWK5XzdS"
   },
   "source": [
    "Выделяем обучающие и целевые признаки."
   ]
  },
  {
   "cell_type": "code",
   "execution_count": null,
   "metadata": {
    "id": "7wY_4Z_OXzdS"
   },
   "outputs": [],
   "source": [
    "X = df['text'].astype('U')\n",
    "y = df['toxic']"
   ]
  },
  {
   "cell_type": "markdown",
   "metadata": {
    "id": "wynRTFuiXzdS"
   },
   "source": [
    "Чистим текст от лишних знаков."
   ]
  },
  {
   "cell_type": "code",
   "execution_count": null,
   "metadata": {
    "id": "vfI7a68_XzdS"
   },
   "outputs": [],
   "source": [
    "def text_clear(text):\n",
    "    text_cleared = re.sub(r'[^a-zA-Z]', ' ', text)\n",
    "    return \" \".join(text_cleared.split())"
   ]
  },
  {
   "cell_type": "code",
   "execution_count": null,
   "metadata": {
    "id": "_88gpNAjXzdS"
   },
   "outputs": [],
   "source": [
    "X_cleared = X.apply(text_clear)"
   ]
  },
  {
   "cell_type": "markdown",
   "metadata": {
    "id": "FAovy6RlXzdS"
   },
   "source": [
    "Подход ниже позволяет провести более тщательную лемматизацию, например, переводить are в be, или лемматизировать слово в зависимости от части речи, что существенно для английского языка. Но вычислительные ресурсы не позволили использовать такой подход. По оценкам процесс занимает более 4 часов."
   ]
  },
  {
   "cell_type": "markdown",
   "metadata": {
    "id": "kbsnF16iXzdS"
   },
   "source": [
    "def get_wordnet_pos(word):\n",
    "    \"\"\"Map POS tag to first character lemmatize() accepts\"\"\"\n",
    "    tag = nltk.pos_tag([word])[0][1][0].upper()\n",
    "    tag_dict = {\"J\": wordnet.ADJ,\n",
    "                \"N\": wordnet.NOUN,\n",
    "                \"V\": wordnet.VERB,\n",
    "                \"R\": wordnet.ADV}\n",
    "\n",
    "    return tag_dict.get(tag, wordnet.NOUN)"
   ]
  },
  {
   "cell_type": "markdown",
   "metadata": {
    "id": "GQrwsJ4PXzdS"
   },
   "source": [
    "lemmatizer = WordNetLemmatizer()\n",
    "\n",
    "def text_lemmatize(text):    \n",
    "    lemm_list = [lemmatizer.lemmatize(w, get_wordnet_pos(w)) for w in nltk.word_tokenize(text)]           \n",
    "    return \" \".join(lemm_list)"
   ]
  },
  {
   "cell_type": "markdown",
   "metadata": {
    "id": "Z89diU6zXzdS"
   },
   "source": [
    "Поэтому была использована более простая лемматизация."
   ]
  },
  {
   "cell_type": "code",
   "execution_count": null,
   "metadata": {
    "id": "qvNppf17XzdS"
   },
   "outputs": [],
   "source": [
    "lemmatizer = WordNetLemmatizer()\n",
    "\n",
    "def text_lemmatize(text):    \n",
    "    lemm_list = [lemmatizer.lemmatize(w) for w in nltk.word_tokenize(text)]           \n",
    "    return \" \".join(lemm_list)"
   ]
  },
  {
   "cell_type": "markdown",
   "metadata": {
    "id": "g5fkUFCuXzdS"
   },
   "source": [
    "Батчи были использованы при попытке лемматизировать 1-м способом."
   ]
  },
  {
   "cell_type": "code",
   "execution_count": null,
   "metadata": {
    "colab": {
     "referenced_widgets": [
      "2b8bcf0b8ad74043a5a01edf0b0b7693"
     ]
    },
    "id": "4HHwrvwNXzdS",
    "outputId": "268bb450-bb59-4059-d724-afcfc10c4526"
   },
   "outputs": [
    {
     "data": {
      "application/vnd.jupyter.widget-view+json": {
       "model_id": "2b8bcf0b8ad74043a5a01edf0b0b7693",
       "version_major": 2,
       "version_minor": 0
      },
      "text/plain": [
       "HBox(children=(FloatProgress(value=0.0, max=1596.0), HTML(value='')))"
      ]
     },
     "metadata": {
      "tags": []
     },
     "output_type": "display_data"
    },
    {
     "name": "stdout",
     "output_type": "stream",
     "text": [
      "\n"
     ]
    }
   ],
   "source": [
    "batch_size = 100\n",
    "X_cleared_lemmatized = []\n",
    "for i in notebook.tqdm(range(X_cleared.shape[0] // batch_size + 1)):\n",
    "        batch = X_cleared[batch_size*i:batch_size*(i+1)].apply(text_lemmatize)        \n",
    "        X_cleared_lemmatized.append(batch)"
   ]
  },
  {
   "cell_type": "code",
   "execution_count": null,
   "metadata": {
    "id": "zCXJeTh-XzdT"
   },
   "outputs": [],
   "source": [
    "X_cleared_lemmatized = np.concatenate(X_cleared_lemmatized)"
   ]
  },
  {
   "cell_type": "markdown",
   "metadata": {},
   "source": [
    "<font color='blue'><b>Комментарий ревьювера</b></font> \\\n",
    "<font color='green'>Отлично, данные очищены и лемматизированы"
   ]
  },
  {
   "cell_type": "markdown",
   "metadata": {
    "id": "Gwg7tdZkXzdT"
   },
   "source": [
    "ВЫделяем обучающую и тестовую выборки в стандартном соотношении 3:1."
   ]
  },
  {
   "cell_type": "code",
   "execution_count": null,
   "metadata": {
    "id": "wEK7zKOGXzdT"
   },
   "outputs": [],
   "source": [
    "X_train, X_test, y_train, y_test = train_test_split(X_cleared_lemmatized, y, random_state=state)"
   ]
  },
  {
   "cell_type": "markdown",
   "metadata": {
    "id": "_5dYX29yXzdT"
   },
   "source": [
    "Смотрим, какие по объёму получились выборки."
   ]
  },
  {
   "cell_type": "code",
   "execution_count": null,
   "metadata": {
    "id": "B-5hr0hjXzdT",
    "outputId": "fd3aa6ec-b34a-442e-931a-b74de8f0d772"
   },
   "outputs": [
    {
     "data": {
      "text/plain": [
       "(119678,)"
      ]
     },
     "execution_count": 26,
     "metadata": {
      "tags": []
     },
     "output_type": "execute_result"
    }
   ],
   "source": [
    "X_train.shape"
   ]
  },
  {
   "cell_type": "code",
   "execution_count": null,
   "metadata": {
    "id": "OFx8avsnXzdT",
    "outputId": "f67c833e-c145-428c-9741-7e88076c295f"
   },
   "outputs": [
    {
     "data": {
      "text/plain": [
       "(39893,)"
      ]
     },
     "execution_count": 27,
     "metadata": {
      "tags": []
     },
     "output_type": "execute_result"
    }
   ],
   "source": [
    "X_test.shape"
   ]
  },
  {
   "cell_type": "markdown",
   "metadata": {
    "id": "z0csqoFRXzdT"
   },
   "source": [
    "# 2. Обучение"
   ]
  },
  {
   "cell_type": "markdown",
   "metadata": {
    "id": "M9Aji9nkXzdT"
   },
   "source": [
    "Метрику переделывает в скорер."
   ]
  },
  {
   "cell_type": "code",
   "execution_count": null,
   "metadata": {
    "id": "4HTblUZBXzdT"
   },
   "outputs": [],
   "source": [
    "f1_scorer = make_scorer(f1_score)"
   ]
  },
  {
   "cell_type": "markdown",
   "metadata": {
    "id": "sOTOLdeVXzdT"
   },
   "source": [
    "## 2.1Tfidf"
   ]
  },
  {
   "cell_type": "markdown",
   "metadata": {
    "id": "u9uLV7sLXzdT"
   },
   "source": [
    "Векторизируем признаки методом tfidf."
   ]
  },
  {
   "cell_type": "code",
   "execution_count": null,
   "metadata": {
    "id": "PzxZlxXiXzdT"
   },
   "outputs": [],
   "source": [
    "count_tfidf = TfidfVectorizer(stop_words=stopwords)\n",
    "\n",
    "X_train_tfidf = count_tfidf.fit_transform(X_train)\n",
    "X_test_tfidf = count_tfidf.transform(X_test)"
   ]
  },
  {
   "cell_type": "markdown",
   "metadata": {},
   "source": [
    "<font color='blue'><b>Комментарий ревьювера</b></font> \\\n",
    "<font color='green'>Верно!"
   ]
  },
  {
   "cell_type": "markdown",
   "metadata": {
    "id": "jQDDNgWuXzdT"
   },
   "source": [
    "Мало того, что линейные модели быстрее многих прочих, так они ещё покузывают лучший результат по качеству. Для сравнения был взят градиентный бустинг LGBM."
   ]
  },
  {
   "cell_type": "markdown",
   "metadata": {
    "id": "nci_6IX7XzdT"
   },
   "source": [
    "### 2.1.1 Logistic"
   ]
  },
  {
   "cell_type": "code",
   "execution_count": null,
   "metadata": {
    "id": "rlc1k69yXzdT",
    "outputId": "1b527f4a-eaa6-44b1-e129-da323a9ebd15"
   },
   "outputs": [
    {
     "name": "stdout",
     "output_type": "stream",
     "text": [
      "Лучший f1 среди всех параметров: 0.76\n",
      "Лучшие параметры: {'C': 10, 'class_weight': 'balanced'}\n",
      "Wall time: 2min 2s\n"
     ]
    }
   ],
   "source": [
    "%%time\n",
    "\n",
    "lg = LogisticRegression(max_iter=1000)\n",
    "\n",
    "parameters = {'C': [.1, .5, 1, 10],\n",
    "              'class_weight': [None, 'balanced']\n",
    "              }\n",
    "\n",
    "lg_grid = GridSearchCV(estimator=lg, param_grid=parameters, cv=3, scoring=f1_scorer)\n",
    "lg_grid.fit(X_train_tfidf, y_train)\n",
    "\n",
    "print('Лучший f1 среди всех параметров: {:.2f}'.format(lg_grid.best_score_))\n",
    "print('Лучшие параметры:', lg_grid.best_params_)"
   ]
  },
  {
   "cell_type": "code",
   "execution_count": null,
   "metadata": {
    "id": "GHs1SYIdXzdT",
    "outputId": "043e50e9-2c9c-439b-a25a-74665ffef19f"
   },
   "outputs": [
    {
     "name": "stdout",
     "output_type": "stream",
     "text": [
      "lg f1 на обучающей выборке: 0.92\n",
      "lg f1 на тестовой выборке: 0.76\n"
     ]
    }
   ],
   "source": [
    "lg = LogisticRegression(max_iter=1000, C=10, class_weight='balanced').fit(X_train_tfidf, y_train)\n",
    "\n",
    "lg_f1_tfidf = f1_score(y_test, lg.predict(X_test_tfidf))\n",
    "\n",
    "print('lg f1 на обучающей выборке: {:.2f}'.format(f1_score(y_train, lg.predict(X_train_tfidf))))\n",
    "print('lg f1 на тестовой выборке: {:.2f}'.format(lg_f1_tfidf))"
   ]
  },
  {
   "cell_type": "markdown",
   "metadata": {},
   "source": [
    "<font color='blue'><b>Комментарий ревьювера</b></font> \\\n",
    "<font color='green'>Сразу перепрыгнул необходимый порог, отлично!"
   ]
  },
  {
   "cell_type": "markdown",
   "metadata": {
    "id": "eIx4CHAWXzdT"
   },
   "source": [
    "### 2.1.2 SVM"
   ]
  },
  {
   "cell_type": "code",
   "execution_count": null,
   "metadata": {
    "id": "2ClEzfyaXzdT",
    "outputId": "0f8462e3-85b7-4e66-8a66-3163e8e765dd"
   },
   "outputs": [
    {
     "name": "stdout",
     "output_type": "stream",
     "text": [
      "Лучший f1 среди всех параметров: 0.76\n",
      "Лучшие параметры: {'C': 1, 'class_weight': None}\n",
      "Wall time: 53.5 s\n"
     ]
    }
   ],
   "source": [
    "%%time\n",
    "\n",
    "svc = LinearSVC(max_iter=10000)\n",
    "\n",
    "parameters = {'C': [.1, .5, 1, 10],\n",
    "              'class_weight': [None, 'balanced']\n",
    "              }\n",
    "\n",
    "svc_grid = GridSearchCV(estimator=svc, param_grid=parameters, cv=3, scoring=f1_scorer).fit(X_train_tfidf, y_train)\n",
    "\n",
    "print('Лучший f1 среди всех параметров: {:.2f}'.format(svc_grid.best_score_))\n",
    "print('Лучшие параметры:', svc_grid.best_params_)"
   ]
  },
  {
   "cell_type": "code",
   "execution_count": null,
   "metadata": {
    "id": "ws9B0K4wXzdT",
    "outputId": "40ee6daa-ead7-46fd-ca22-be71853b7a20"
   },
   "outputs": [
    {
     "name": "stdout",
     "output_type": "stream",
     "text": [
      "svc f1 на обучающей выборке: 0.93\n",
      "svc f1 на тестовой выборке: 0.78\n"
     ]
    }
   ],
   "source": [
    "svc = LinearSVC(max_iter=10000, C=1, class_weight=None).fit(X_train_tfidf, y_train)\n",
    "\n",
    "svc_f1_tfidf = f1_score(y_test, svc.predict(X_test_tfidf))\n",
    "\n",
    "print('svc f1 на обучающей выборке: {:.2f}'.format(f1_score(y_train, svc.predict(X_train_tfidf))))\n",
    "print('svc f1 на тестовой выборке: {:.2f}'.format(svc_f1_tfidf))"
   ]
  },
  {
   "cell_type": "markdown",
   "metadata": {
    "id": "J7OnrMSgXzdT"
   },
   "source": [
    "### 2.1.3 LGBMClassifier"
   ]
  },
  {
   "cell_type": "code",
   "execution_count": null,
   "metadata": {
    "id": "oVK-FLwMXzdT",
    "outputId": "fc14dd08-061e-4e0c-d1fb-9cca7184ead9"
   },
   "outputs": [
    {
     "name": "stdout",
     "output_type": "stream",
     "text": [
      "Лучший f1 среди всех параметров: 0.74\n",
      "Лучшие параметры: {'class_weight': None, 'learning_rate': 0.1}\n",
      "Wall time: 4min 56s\n"
     ]
    }
   ],
   "source": [
    "%%time\n",
    "\n",
    "lgbm = LGBMClassifier()\n",
    "\n",
    "parameters = {'learning_rate': [0.1, 1, 10],                           \n",
    "              'class_weight': [None, 'balanced']\n",
    "              }\n",
    "\n",
    "lgbm_grid = GridSearchCV(estimator=lgbm, param_grid=parameters, cv=3, scoring=f1_scorer).fit(X_train_tfidf, y_train)\n",
    "\n",
    "print('Лучший f1 среди всех параметров: {:.2f}'.format(lgbm_grid.best_score_))\n",
    "print('Лучшие параметры:', lgbm_grid.best_params_)"
   ]
  },
  {
   "cell_type": "code",
   "execution_count": null,
   "metadata": {
    "id": "6mvQCYhsXzdT",
    "outputId": "f4201322-c050-44b4-e882-27344506fafb"
   },
   "outputs": [
    {
     "name": "stdout",
     "output_type": "stream",
     "text": [
      "lgbm f1 на обучающей выборке: 0.74\n",
      "lgbm f1 на тестовой выборке: 0.71\n"
     ]
    }
   ],
   "source": [
    "lgbm = LGBMClassifier(max_depth=15, num_leaves=25, learning_rate=.1).fit(X_train_tfidf, y_train)\n",
    "\n",
    "lgbm_f1_tfidf = f1_score(y_test, lgbm.predict(X_test_tfidf))\n",
    "\n",
    "print('lgbm f1 на обучающей выборке: {:.2f}'.format(f1_score(y_train, lgbm.predict(X_train_tfidf))))\n",
    "print('lgbm f1 на тестовой выборке: {:.2f}'.format(lgbm_f1_tfidf))"
   ]
  },
  {
   "cell_type": "markdown",
   "metadata": {
    "id": "q1xcGkW8XzdT"
   },
   "source": [
    "## 2.2 Bert"
   ]
  },
  {
   "cell_type": "markdown",
   "metadata": {
    "id": "I3WdJnVwXzdT"
   },
   "source": [
    "Берт, может быть, и хорош, но не для наших вычислительных ресурсов. Поэтому первоначальная выборака была ограничена объёмом 5000. Что конечно, не совсем корректно для сравнения. Отдельно было проверено, что на одинаковых выбоках Берт показывает лучший результат."
   ]
  },
  {
   "cell_type": "code",
   "execution_count": null,
   "metadata": {
    "id": "5urNpCvEXzdT"
   },
   "outputs": [],
   "source": [
    "tokenizer = BertTokenizer.from_pretrained('bert-base-uncased')"
   ]
  },
  {
   "cell_type": "code",
   "execution_count": null,
   "metadata": {
    "id": "VEdgEQMyXzdT"
   },
   "outputs": [],
   "source": [
    "df = df.sample(n=5000, random_state=state)\n",
    "\n",
    "features = df['text'].astype('U')\n",
    "target = df['toxic']\n",
    "\n",
    "tokenized = features.apply(lambda x: tokenizer.encode(x[:512], add_special_tokens=True))\n",
    "\n",
    "max_len = 0\n",
    "for i in tokenized.values:\n",
    "    if len(i) > max_len:\n",
    "        max_len = len(i)\n",
    "\n",
    "padded = np.array([i + [0]*(max_len - len(i)) for i in tokenized.values])\n",
    "\n",
    "attention_mask = np.where(padded != 0, 1, 0)"
   ]
  },
  {
   "cell_type": "code",
   "execution_count": null,
   "metadata": {
    "id": "U1Wp0XXIXzdT"
   },
   "outputs": [],
   "source": [
    "model = BertModel.from_pretrained('bert-base-uncased', return_dict=True)"
   ]
  },
  {
   "cell_type": "code",
   "execution_count": null,
   "metadata": {
    "colab": {
     "referenced_widgets": [
      "bec2f0b234ee4afb89caeb55d19f49e8"
     ]
    },
    "id": "UhGw7yOkXzdT",
    "outputId": "71451eb1-a511-4508-a370-2237a5f6ac86"
   },
   "outputs": [
    {
     "data": {
      "application/vnd.jupyter.widget-view+json": {
       "model_id": "bec2f0b234ee4afb89caeb55d19f49e8",
       "version_major": 2,
       "version_minor": 0
      },
      "text/plain": [
       "HBox(children=(FloatProgress(value=0.0, max=50.0), HTML(value='')))"
      ]
     },
     "metadata": {
      "tags": []
     },
     "output_type": "display_data"
    },
    {
     "name": "stdout",
     "output_type": "stream",
     "text": [
      "\n"
     ]
    }
   ],
   "source": [
    "batch_size = 100\n",
    "embeddings = []\n",
    "for i in notebook.tqdm(range(padded.shape[0] // batch_size)):\n",
    "        batch = torch.LongTensor(padded[batch_size*i:batch_size*(i+1)]) \n",
    "        attention_mask_batch = torch.LongTensor(attention_mask[batch_size*i:batch_size*(i+1)])\n",
    "        \n",
    "        with torch.no_grad():\n",
    "            batch_embeddings = model(batch, attention_mask=attention_mask_batch)\n",
    "        \n",
    "        embeddings.append(batch_embeddings[0][:,0,:].numpy())"
   ]
  },
  {
   "cell_type": "code",
   "execution_count": null,
   "metadata": {
    "id": "bPTASBXkXzdU"
   },
   "outputs": [],
   "source": [
    "features_bert = np.concatenate(embeddings)"
   ]
  },
  {
   "cell_type": "code",
   "execution_count": null,
   "metadata": {
    "id": "6HXeBWswXzdU"
   },
   "outputs": [],
   "source": [
    "X_train_bert, X_test_bert, y_train_bert, y_test_bert = train_test_split(features_bert, target, random_state=state)"
   ]
  },
  {
   "cell_type": "code",
   "execution_count": null,
   "metadata": {
    "id": "n5h3bg7hXzdU",
    "outputId": "1fcce5e8-d1a1-4369-d409-06616dda7521"
   },
   "outputs": [
    {
     "data": {
      "text/plain": [
       "(3750, 768)"
      ]
     },
     "execution_count": 49,
     "metadata": {
      "tags": []
     },
     "output_type": "execute_result"
    }
   ],
   "source": [
    "X_train_bert.shape"
   ]
  },
  {
   "cell_type": "code",
   "execution_count": null,
   "metadata": {
    "id": "hAB9SoOWXzdU",
    "outputId": "4f93670c-bb09-4b06-d20b-2c7a60f9f451"
   },
   "outputs": [
    {
     "data": {
      "text/plain": [
       "(1250, 768)"
      ]
     },
     "execution_count": 50,
     "metadata": {
      "tags": []
     },
     "output_type": "execute_result"
    }
   ],
   "source": [
    "X_test_bert.shape"
   ]
  },
  {
   "cell_type": "markdown",
   "metadata": {},
   "source": [
    "<font color='blue'><b>Комментарий ревьювера</b></font> \\\n",
    "<font color='green'>Круто, что решил не просто попробовать BERT, но и сравнить с TF-IDF! "
   ]
  },
  {
   "cell_type": "markdown",
   "metadata": {
    "id": "zFkW-n-5XzdU"
   },
   "source": [
    "### 2.2.1 Logistic"
   ]
  },
  {
   "cell_type": "code",
   "execution_count": null,
   "metadata": {
    "id": "jDfdW0H-XzdU",
    "outputId": "a6e90102-7b34-4f40-a88f-d8529d69cdc7"
   },
   "outputs": [
    {
     "name": "stdout",
     "output_type": "stream",
     "text": [
      "Лучший f1 среди всех параметров: 0.66\n",
      "Лучшие параметры: {'C': 0.5, 'class_weight': None}\n",
      "Wall time: 25.9 s\n"
     ]
    }
   ],
   "source": [
    "%%time\n",
    "\n",
    "lg = LogisticRegression(max_iter=1000)\n",
    "\n",
    "parameters = {'C': [.1, .5, 1, 10],              \n",
    "              'class_weight': [None, 'balanced']\n",
    "              }\n",
    "\n",
    "lg_grid = GridSearchCV(estimator=lg, param_grid=parameters, cv=3, scoring=f1_scorer)\n",
    "lg_grid.fit(X_train_bert, y_train_bert)\n",
    "\n",
    "print('Лучший f1 среди всех параметров: {:.2f}'.format(lg_grid.best_score_))\n",
    "print('Лучшие параметры:', lg_grid.best_params_)"
   ]
  },
  {
   "cell_type": "code",
   "execution_count": null,
   "metadata": {
    "id": "qe-vt633XzdU",
    "outputId": "a9321942-7e5f-4029-ab71-be545fb6eea7"
   },
   "outputs": [
    {
     "name": "stdout",
     "output_type": "stream",
     "text": [
      "lg f1 на обучающей выборке: 0.86\n",
      "lg f1 на тестовой выборке: 0.65\n"
     ]
    }
   ],
   "source": [
    "lg = LogisticRegression(max_iter=1000, C=.5, class_weight=None).fit(X_train_bert, y_train_bert)\n",
    "\n",
    "lg_f1_bert = f1_score(y_test_bert, lg.predict(X_test_bert))\n",
    "\n",
    "print('lg f1 на обучающей выборке: {:.2f}'.format(f1_score(y_train_bert, lg.predict(X_train_bert))))\n",
    "print('lg f1 на тестовой выборке: {:.2f}'.format(lg_f1_bert))"
   ]
  },
  {
   "cell_type": "markdown",
   "metadata": {
    "id": "i6fA0dhzXzdU"
   },
   "source": [
    "### 2.2.2 SVM"
   ]
  },
  {
   "cell_type": "code",
   "execution_count": null,
   "metadata": {
    "id": "9y7w70z5XzdU",
    "outputId": "6c771104-d088-4206-ab8b-aa229b662eae"
   },
   "outputs": [
    {
     "name": "stdout",
     "output_type": "stream",
     "text": [
      "Лучший f1 среди всех параметров: 0.62\n",
      "Лучшие параметры: {'C': 0.1, 'class_weight': None}\n",
      "Wall time: 1min 10s\n"
     ]
    }
   ],
   "source": [
    "%%time\n",
    "\n",
    "svc = LinearSVC(max_iter=10000)\n",
    "\n",
    "parameters = {'C': [.1, .5, 1, 10],              \n",
    "              'class_weight': [None, 'balanced']\n",
    "              }\n",
    "\n",
    "svc_grid = GridSearchCV(estimator=svc, param_grid=parameters, cv=3, scoring=f1_scorer).fit(X_train_bert, y_train_bert)\n",
    "\n",
    "print('Лучший f1 среди всех параметров: {:.2f}'.format(svc_grid.best_score_))\n",
    "print('Лучшие параметры:', svc_grid.best_params_)"
   ]
  },
  {
   "cell_type": "code",
   "execution_count": null,
   "metadata": {
    "id": "cnsMImCNXzdU",
    "outputId": "94cad27d-39da-413e-e6a0-8f151173f4a9"
   },
   "outputs": [
    {
     "name": "stdout",
     "output_type": "stream",
     "text": [
      "svc f1 на обучающей выборке: 0.90\n",
      "svc f1 на тестовой выборке: 0.62\n"
     ]
    }
   ],
   "source": [
    "svc = LinearSVC(max_iter=10000, C=0.1, class_weight=None).fit(X_train_bert, y_train_bert)\n",
    "\n",
    "svc_f1_bert = f1_score(y_test_bert, svc.predict(X_test_bert))\n",
    "\n",
    "print('svc f1 на обучающей выборке: {:.2f}'.format(f1_score(y_train_bert, svc.predict(X_train_bert))))\n",
    "print('svc f1 на тестовой выборке: {:.2f}'.format(svc_f1_bert))"
   ]
  },
  {
   "cell_type": "markdown",
   "metadata": {
    "id": "B0Ppcy4LXzdU"
   },
   "source": [
    "### 2.2.3 LGBMClassifier"
   ]
  },
  {
   "cell_type": "code",
   "execution_count": null,
   "metadata": {
    "id": "kDrkTW_aXzdU",
    "outputId": "8f2439ff-5179-40db-e0dd-6c6ea4f38581"
   },
   "outputs": [
    {
     "name": "stdout",
     "output_type": "stream",
     "text": [
      "Лучший f1 среди всех параметров: 0.60\n",
      "Лучшие параметры: {'class_weight': 'balanced', 'learning_rate': 0.1}\n",
      "Wall time: 44.1 s\n"
     ]
    }
   ],
   "source": [
    "%%time\n",
    "\n",
    "lgbm = LGBMClassifier()\n",
    "\n",
    "parameters = {'learning_rate': [0.1, 1, 10],                            \n",
    "              'class_weight': [None, 'balanced']\n",
    "              }\n",
    "\n",
    "lgbm_grid = GridSearchCV(estimator=lgbm, param_grid=parameters, cv=3, scoring=f1_scorer).fit(X_train_bert, y_train_bert)\n",
    "\n",
    "print('Лучший f1 среди всех параметров: {:.2f}'.format(lgbm_grid.best_score_))\n",
    "print('Лучшие параметры:', lgbm_grid.best_params_)"
   ]
  },
  {
   "cell_type": "code",
   "execution_count": null,
   "metadata": {
    "id": "7qYOM1kfXzdU",
    "outputId": "5c2fa8b2-0b9a-4ffb-9ad6-2d209cfcf7ee"
   },
   "outputs": [
    {
     "name": "stdout",
     "output_type": "stream",
     "text": [
      "lgbm f1 на обучающей выборке: 1.00\n",
      "lgbm f1 на тестовой выборке: 0.63\n"
     ]
    }
   ],
   "source": [
    "lgbm = LGBMClassifier(learning_rate=0.1, max_depth=15, num_leaves=25, class_weight='balanced').fit(X_train_bert, y_train_bert)\n",
    "\n",
    "lgbm_f1_bert = f1_score(y_test_bert, lgbm.predict(X_test_bert))\n",
    "\n",
    "print('lgbm f1 на обучающей выборке: {:.2f}'.format(f1_score(y_train_bert, lgbm.predict(X_train_bert))))\n",
    "print('lgbm f1 на тестовой выборке: {:.2f}'.format(lgbm_f1_bert))"
   ]
  },
  {
   "cell_type": "markdown",
   "metadata": {
    "id": "XoI7EfXVXzdU"
   },
   "source": [
    "Проверяем модели на адекватность."
   ]
  },
  {
   "cell_type": "markdown",
   "metadata": {
    "id": "mTtTbd5XXzdU"
   },
   "source": [
    "## 2.3 Dummy"
   ]
  },
  {
   "cell_type": "code",
   "execution_count": null,
   "metadata": {
    "id": "9_zZr--pXzdU",
    "outputId": "5b76cc18-cbe5-4600-918c-bcde00b10ed1"
   },
   "outputs": [
    {
     "name": "stdout",
     "output_type": "stream",
     "text": [
      "dummy f1 на обучающей выборке: 0.06\n",
      "dummy f1 на тестовой выборке: 0.09\n"
     ]
    }
   ],
   "source": [
    "X_train_dummy, X_test_dummy, y_train_dummy, y_test_dummy = train_test_split(features, target, random_state=state)\n",
    "\n",
    "dummy = DummyClassifier(strategy=\"stratified\").fit(X_train_dummy, y_train_dummy)\n",
    "\n",
    "dummy_f1 = f1_score(y_test_dummy, dummy.predict(X_test_dummy))\n",
    "\n",
    "print('dummy f1 на обучающей выборке: {:.2f}'.format(f1_score(y_train_dummy, dummy.predict(X_train_dummy))))\n",
    "print('dummy f1 на тестовой выборке: {:.2f}'.format(dummy_f1))"
   ]
  },
  {
   "cell_type": "markdown",
   "metadata": {},
   "source": [
    "<font color='blue'><b>Комментарий ревьювера</b></font> \\\n",
    "<font color='green'>Молодец, что проверяешь модель на адекватность!"
   ]
  },
  {
   "cell_type": "markdown",
   "metadata": {
    "id": "wLp0c56gXzdU"
   },
   "source": [
    "# 3. Выводы"
   ]
  },
  {
   "cell_type": "code",
   "execution_count": null,
   "metadata": {
    "id": "2Hx6I6dBXzdU"
   },
   "outputs": [],
   "source": [
    "results = pd.DataFrame({'quality': [lg_f1_tfidf, svc_f1_tfidf, lgbm_f1_tfidf, lg_f1_bert, svc_f1_bert, lgbm_f1_bert, dummy_f1]},\n",
    "                       index=['lg_tfidf', 'svc_tfidf', 'lgbm_tfidf', 'lg_bert', 'svc_bert', 'lgbm_bert', 'dummy']\n",
    "                       )"
   ]
  },
  {
   "cell_type": "code",
   "execution_count": null,
   "metadata": {
    "id": "d6uJowxgXzdU",
    "outputId": "bba222ab-7aba-4dd3-b1e0-06a4ad61ad80"
   },
   "outputs": [
    {
     "data": {
      "text/html": [
       "<div>\n",
       "<style scoped>\n",
       "    .dataframe tbody tr th:only-of-type {\n",
       "        vertical-align: middle;\n",
       "    }\n",
       "\n",
       "    .dataframe tbody tr th {\n",
       "        vertical-align: top;\n",
       "    }\n",
       "\n",
       "    .dataframe thead th {\n",
       "        text-align: right;\n",
       "    }\n",
       "</style>\n",
       "<table border=\"1\" class=\"dataframe\">\n",
       "  <thead>\n",
       "    <tr style=\"text-align: right;\">\n",
       "      <th></th>\n",
       "      <th>quality</th>\n",
       "    </tr>\n",
       "  </thead>\n",
       "  <tbody>\n",
       "    <tr>\n",
       "      <th>svc_tfidf</th>\n",
       "      <td>0.780373</td>\n",
       "    </tr>\n",
       "    <tr>\n",
       "      <th>lg_tfidf</th>\n",
       "      <td>0.760163</td>\n",
       "    </tr>\n",
       "    <tr>\n",
       "      <th>lgbm_tfidf</th>\n",
       "      <td>0.710660</td>\n",
       "    </tr>\n",
       "    <tr>\n",
       "      <th>lg_bert</th>\n",
       "      <td>0.646288</td>\n",
       "    </tr>\n",
       "    <tr>\n",
       "      <th>lgbm_bert</th>\n",
       "      <td>0.626728</td>\n",
       "    </tr>\n",
       "    <tr>\n",
       "      <th>svc_bert</th>\n",
       "      <td>0.621277</td>\n",
       "    </tr>\n",
       "    <tr>\n",
       "      <th>dummy</th>\n",
       "      <td>0.063636</td>\n",
       "    </tr>\n",
       "  </tbody>\n",
       "</table>\n",
       "</div>"
      ],
      "text/plain": [
       "             quality\n",
       "svc_tfidf   0.780373\n",
       "lg_tfidf    0.760163\n",
       "lgbm_tfidf  0.710660\n",
       "lg_bert     0.646288\n",
       "lgbm_bert   0.626728\n",
       "svc_bert    0.621277\n",
       "dummy       0.063636"
      ]
     },
     "execution_count": 69,
     "metadata": {
      "tags": []
     },
     "output_type": "execute_result"
    }
   ],
   "source": [
    "results.sort_values('quality', ascending=False)"
   ]
  },
  {
   "cell_type": "code",
   "execution_count": null,
   "metadata": {
    "id": "EZk3HtTXXzdU"
   },
   "outputs": [],
   "source": [
    "results.sort_values('quality', inplace=True, ascending=False)"
   ]
  },
  {
   "cell_type": "code",
   "execution_count": null,
   "metadata": {
    "id": "LBoCPAOFXzdU",
    "outputId": "45ad2627-0843-4fe4-d2bb-1aa1769b49ee"
   },
   "outputs": [
    {
     "data": {
      "image/png": "[encoded data removed]",
      "text/plain": [
       "<Figure size 432x288 with 1 Axes>"
      ]
     },
     "metadata": {
      "tags": []
     },
     "output_type": "display_data"
    }
   ],
   "source": [
    "bar_chart(results.quality, results.index, 'Качество')"
   ]
  },
  {
   "cell_type": "markdown",
   "metadata": {
    "id": "vcHdZtM7XzdU"
   },
   "source": [
    "Обучение на текстах требует дополнительных вычислительных ресурсов в сравнении с предыдущими задачами, так как большое количество признаков, а это как квадрат влияет на объём вычислений.\n",
    "\n",
    "Метод tfidf относится более щедяще к компьютерным ресурсам, поэтому он и победил. Bert не позволил провести расчёты на всей выборке. \n",
    "\n",
    "Линейные модели проявили себя здесь лучше не только по скорости, но и по качеству."
   ]
  },
  {
   "cell_type": "markdown",
   "metadata": {},
   "source": [
    "<font color='blue'><b>Комментарий ревьювера</b></font> \\\n",
    "<font color='green'>Да, сейчас активно используются RNN (LSTM) и трансформеры (BERT и другие с улицы Сезам, например, ELMO). НО! Они не являются панацеей, не всегда они нужны, так как и TF-IDF или Word2Vec + модели из классического ML тоже могут справляться. \\\n",
    "BERT тяжелый, да, и существует много его вариаций для разных задач, есть готовые модели, есть надстройки над библиотекой transformers. Если, обучать BERT на GPU (можно в Google Colab или Kaggle), то должно быть побыстрее.\n",
    "\n",
    "\n",
    "<b>Полезные (и просто интересные) материалы:</b> \\\n",
    "https://huggingface.co/transformers/model_doc/bert.html \\\n",
    "https://t.me/renat_alimbekov \\\n",
    "https://colah.github.io/posts/2015-08-Understanding-LSTMs/ - Про LSTM \\\n",
    "https://web.stanford.edu/~jurafsky/slp3/10.pdf - про энкодер-декодер модели, этеншены\\\n",
    "https://pytorch.org/tutorials/beginner/transformer_tutorial.html - официальный гайд\n",
    "по трансформеру от создателей pytorch\\\n",
    "https://transformer.huggingface.co/ - поболтать с трансформером \\\n",
    "Библиотеки: allennlp, fairseq, transformers, tensorflow-text — множествореализованных\n",
    "методов для трансформеров методов NLP "
   ]
  },
  {
   "cell_type": "markdown",
   "metadata": {},
   "source": [
    "<font color='blue'><b>Итоговый комментарий ревьювера</b></font>\\\n",
    "<font color='green'>Михаил, ты сделал отличный проект! Понравилось, что ты не стал ограничиваться чем-то одним, а стал сравнивать классический метод с трансформером\\\n",
    "Надеюсь, тебе будут полезны ссылки, которые я оставил выше</font>\n",
    "\n",
    "\n",
    "<font color='blue'><b>Проект принят! Успехов :)</b></font>"
   ]
  },
  {
   "cell_type": "markdown",
   "metadata": {
    "id": "xR3TDwRPXzdU"
   },
   "source": [
    "- [x]  Jupyter Notebook открыт\n",
    "- [x]  Весь код выполняется без ошибок\n",
    "- [x]  Ячейки с кодом расположены в порядке исполнения\n",
    "- [x]  Данные загружены и подготовлены\n",
    "- [x]  Модели обучены\n",
    "- [x]  Значение метрики *F1* не меньше 0.75\n",
    "- [x]  Выводы написаны"
   ]
  },
  {
   "cell_type": "markdown",
   "metadata": {},
   "source": [
    "P.S юпитер жудко глючит."
   ]
  }
 ],
 "metadata": {
  "colab": {
   "name": "novoseltsev.ipynb",
   "provenance": []
  },
  "kernelspec": {
   "display_name": "Python 3",
   "language": "python",
   "name": "python3"
  },
  "language_info": {
   "codemirror_mode": {
    "name": "ipython",
    "version": 3
   },
   "file_extension": ".py",
   "mimetype": "text/x-python",
   "name": "python",
   "nbconvert_exporter": "python",
   "pygments_lexer": "ipython3",
   "version": "3.8.1"
  }
 },
 "nbformat": 4,
 "nbformat_minor": 1
}
